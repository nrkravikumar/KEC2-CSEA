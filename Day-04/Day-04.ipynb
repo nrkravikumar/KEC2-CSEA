{
 "cells": [
  {
   "cell_type": "code",
   "execution_count": 1,
   "id": "14d96a0d-8783-4350-b839-f2ac79b85d08",
   "metadata": {},
   "outputs": [],
   "source": [
    "import keyword"
   ]
  },
  {
   "cell_type": "code",
   "execution_count": 3,
   "id": "4b6e3867-14b9-43f9-9e77-687923de5069",
   "metadata": {},
   "outputs": [
    {
     "name": "stdout",
     "output_type": "stream",
     "text": [
      "['__abs__', '__add__', '__and__', '__bool__', '__ceil__', '__class__', '__delattr__', '__dir__', '__divmod__', '__doc__', '__eq__', '__float__', '__floor__', '__floordiv__', '__format__', '__ge__', '__getattribute__', '__getnewargs__', '__gt__', '__hash__', '__index__', '__init__', '__init_subclass__', '__int__', '__invert__', '__le__', '__lshift__', '__lt__', '__mod__', '__mul__', '__ne__', '__neg__', '__new__', '__or__', '__pos__', '__pow__', '__radd__', '__rand__', '__rdivmod__', '__reduce__', '__reduce_ex__', '__repr__', '__rfloordiv__', '__rlshift__', '__rmod__', '__rmul__', '__ror__', '__round__', '__rpow__', '__rrshift__', '__rshift__', '__rsub__', '__rtruediv__', '__rxor__', '__setattr__', '__sizeof__', '__str__', '__sub__', '__subclasshook__', '__truediv__', '__trunc__', '__xor__', 'as_integer_ratio', 'bit_length', 'conjugate', 'denominator', 'from_bytes', 'imag', 'numerator', 'real', 'to_bytes']\n"
     ]
    }
   ],
   "source": [
    "print(dir(int))"
   ]
  },
  {
   "cell_type": "code",
   "execution_count": 4,
   "id": "9063104b-d562-4939-acf3-e20ec7dded0c",
   "metadata": {},
   "outputs": [
    {
     "name": "stdout",
     "output_type": "stream",
     "text": [
      "int([x]) -> integer\n",
      "int(x, base=10) -> integer\n",
      "\n",
      "Convert a number or string to an integer, or return 0 if no arguments\n",
      "are given.  If x is a number, return x.__int__().  For floating point\n",
      "numbers, this truncates towards zero.\n",
      "\n",
      "If x is not a number or if base is given, then x must be a string,\n",
      "bytes, or bytearray instance representing an integer literal in the\n",
      "given base.  The literal can be preceded by '+' or '-' and be surrounded\n",
      "by whitespace.  The base defaults to 10.  Valid bases are 0 and 2-36.\n",
      "Base 0 means to interpret the base from the string as an integer literal.\n",
      ">>> int('0b100', base=0)\n",
      "4\n"
     ]
    }
   ],
   "source": [
    "print(int.__doc__)"
   ]
  },
  {
   "cell_type": "code",
   "execution_count": 7,
   "id": "cc31fafc-7e9a-41b0-9a97-a2b3586a9ad8",
   "metadata": {},
   "outputs": [
    {
     "name": "stdout",
     "output_type": "stream",
     "text": [
      "the numerator of a rational number in lowest terms\n"
     ]
    }
   ],
   "source": [
    "print(int.numerator.__doc__)"
   ]
  },
  {
   "cell_type": "code",
   "execution_count": 10,
   "id": "e5cf486a-fe36-4488-8b3e-979040d096d1",
   "metadata": {},
   "outputs": [
    {
     "name": "stdout",
     "output_type": "stream",
     "text": [
      "Help on class int in module builtins:\n",
      "\n",
      "class int(object)\n",
      " |  int([x]) -> integer\n",
      " |  int(x, base=10) -> integer\n",
      " |  \n",
      " |  Convert a number or string to an integer, or return 0 if no arguments\n",
      " |  are given.  If x is a number, return x.__int__().  For floating point\n",
      " |  numbers, this truncates towards zero.\n",
      " |  \n",
      " |  If x is not a number or if base is given, then x must be a string,\n",
      " |  bytes, or bytearray instance representing an integer literal in the\n",
      " |  given base.  The literal can be preceded by '+' or '-' and be surrounded\n",
      " |  by whitespace.  The base defaults to 10.  Valid bases are 0 and 2-36.\n",
      " |  Base 0 means to interpret the base from the string as an integer literal.\n",
      " |  >>> int('0b100', base=0)\n",
      " |  4\n",
      " |  \n",
      " |  Built-in subclasses:\n",
      " |      bool\n",
      " |  \n",
      " |  Methods defined here:\n",
      " |  \n",
      " |  __abs__(self, /)\n",
      " |      abs(self)\n",
      " |  \n",
      " |  __add__(self, value, /)\n",
      " |      Return self+value.\n",
      " |  \n",
      " |  __and__(self, value, /)\n",
      " |      Return self&value.\n",
      " |  \n",
      " |  __bool__(self, /)\n",
      " |      self != 0\n",
      " |  \n",
      " |  __ceil__(...)\n",
      " |      Ceiling of an Integral returns itself.\n",
      " |  \n",
      " |  __divmod__(self, value, /)\n",
      " |      Return divmod(self, value).\n",
      " |  \n",
      " |  __eq__(self, value, /)\n",
      " |      Return self==value.\n",
      " |  \n",
      " |  __float__(self, /)\n",
      " |      float(self)\n",
      " |  \n",
      " |  __floor__(...)\n",
      " |      Flooring an Integral returns itself.\n",
      " |  \n",
      " |  __floordiv__(self, value, /)\n",
      " |      Return self//value.\n",
      " |  \n",
      " |  __format__(self, format_spec, /)\n",
      " |      Default object formatter.\n",
      " |  \n",
      " |  __ge__(self, value, /)\n",
      " |      Return self>=value.\n",
      " |  \n",
      " |  __getattribute__(self, name, /)\n",
      " |      Return getattr(self, name).\n",
      " |  \n",
      " |  __getnewargs__(self, /)\n",
      " |  \n",
      " |  __gt__(self, value, /)\n",
      " |      Return self>value.\n",
      " |  \n",
      " |  __hash__(self, /)\n",
      " |      Return hash(self).\n",
      " |  \n",
      " |  __index__(self, /)\n",
      " |      Return self converted to an integer, if self is suitable for use as an index into a list.\n",
      " |  \n",
      " |  __int__(self, /)\n",
      " |      int(self)\n",
      " |  \n",
      " |  __invert__(self, /)\n",
      " |      ~self\n",
      " |  \n",
      " |  __le__(self, value, /)\n",
      " |      Return self<=value.\n",
      " |  \n",
      " |  __lshift__(self, value, /)\n",
      " |      Return self<<value.\n",
      " |  \n",
      " |  __lt__(self, value, /)\n",
      " |      Return self<value.\n",
      " |  \n",
      " |  __mod__(self, value, /)\n",
      " |      Return self%value.\n",
      " |  \n",
      " |  __mul__(self, value, /)\n",
      " |      Return self*value.\n",
      " |  \n",
      " |  __ne__(self, value, /)\n",
      " |      Return self!=value.\n",
      " |  \n",
      " |  __neg__(self, /)\n",
      " |      -self\n",
      " |  \n",
      " |  __or__(self, value, /)\n",
      " |      Return self|value.\n",
      " |  \n",
      " |  __pos__(self, /)\n",
      " |      +self\n",
      " |  \n",
      " |  __pow__(self, value, mod=None, /)\n",
      " |      Return pow(self, value, mod).\n",
      " |  \n",
      " |  __radd__(self, value, /)\n",
      " |      Return value+self.\n",
      " |  \n",
      " |  __rand__(self, value, /)\n",
      " |      Return value&self.\n",
      " |  \n",
      " |  __rdivmod__(self, value, /)\n",
      " |      Return divmod(value, self).\n",
      " |  \n",
      " |  __repr__(self, /)\n",
      " |      Return repr(self).\n",
      " |  \n",
      " |  __rfloordiv__(self, value, /)\n",
      " |      Return value//self.\n",
      " |  \n",
      " |  __rlshift__(self, value, /)\n",
      " |      Return value<<self.\n",
      " |  \n",
      " |  __rmod__(self, value, /)\n",
      " |      Return value%self.\n",
      " |  \n",
      " |  __rmul__(self, value, /)\n",
      " |      Return value*self.\n",
      " |  \n",
      " |  __ror__(self, value, /)\n",
      " |      Return value|self.\n",
      " |  \n",
      " |  __round__(...)\n",
      " |      Rounding an Integral returns itself.\n",
      " |      Rounding with an ndigits argument also returns an integer.\n",
      " |  \n",
      " |  __rpow__(self, value, mod=None, /)\n",
      " |      Return pow(value, self, mod).\n",
      " |  \n",
      " |  __rrshift__(self, value, /)\n",
      " |      Return value>>self.\n",
      " |  \n",
      " |  __rshift__(self, value, /)\n",
      " |      Return self>>value.\n",
      " |  \n",
      " |  __rsub__(self, value, /)\n",
      " |      Return value-self.\n",
      " |  \n",
      " |  __rtruediv__(self, value, /)\n",
      " |      Return value/self.\n",
      " |  \n",
      " |  __rxor__(self, value, /)\n",
      " |      Return value^self.\n",
      " |  \n",
      " |  __sizeof__(self, /)\n",
      " |      Returns size in memory, in bytes.\n",
      " |  \n",
      " |  __sub__(self, value, /)\n",
      " |      Return self-value.\n",
      " |  \n",
      " |  __truediv__(self, value, /)\n",
      " |      Return self/value.\n",
      " |  \n",
      " |  __trunc__(...)\n",
      " |      Truncating an Integral returns itself.\n",
      " |  \n",
      " |  __xor__(self, value, /)\n",
      " |      Return self^value.\n",
      " |  \n",
      " |  as_integer_ratio(self, /)\n",
      " |      Return integer ratio.\n",
      " |      \n",
      " |      Return a pair of integers, whose ratio is exactly equal to the original int\n",
      " |      and with a positive denominator.\n",
      " |      \n",
      " |      >>> (10).as_integer_ratio()\n",
      " |      (10, 1)\n",
      " |      >>> (-10).as_integer_ratio()\n",
      " |      (-10, 1)\n",
      " |      >>> (0).as_integer_ratio()\n",
      " |      (0, 1)\n",
      " |  \n",
      " |  bit_length(self, /)\n",
      " |      Number of bits necessary to represent self in binary.\n",
      " |      \n",
      " |      >>> bin(37)\n",
      " |      '0b100101'\n",
      " |      >>> (37).bit_length()\n",
      " |      6\n",
      " |  \n",
      " |  conjugate(...)\n",
      " |      Returns self, the complex conjugate of any int.\n",
      " |  \n",
      " |  to_bytes(self, /, length, byteorder, *, signed=False)\n",
      " |      Return an array of bytes representing an integer.\n",
      " |      \n",
      " |      length\n",
      " |        Length of bytes object to use.  An OverflowError is raised if the\n",
      " |        integer is not representable with the given number of bytes.\n",
      " |      byteorder\n",
      " |        The byte order used to represent the integer.  If byteorder is 'big',\n",
      " |        the most significant byte is at the beginning of the byte array.  If\n",
      " |        byteorder is 'little', the most significant byte is at the end of the\n",
      " |        byte array.  To request the native byte order of the host system, use\n",
      " |        `sys.byteorder' as the byte order value.\n",
      " |      signed\n",
      " |        Determines whether two's complement is used to represent the integer.\n",
      " |        If signed is False and a negative integer is given, an OverflowError\n",
      " |        is raised.\n",
      " |  \n",
      " |  ----------------------------------------------------------------------\n",
      " |  Class methods defined here:\n",
      " |  \n",
      " |  from_bytes(bytes, byteorder, *, signed=False) from builtins.type\n",
      " |      Return the integer represented by the given array of bytes.\n",
      " |      \n",
      " |      bytes\n",
      " |        Holds the array of bytes to convert.  The argument must either\n",
      " |        support the buffer protocol or be an iterable object producing bytes.\n",
      " |        Bytes and bytearray are examples of built-in objects that support the\n",
      " |        buffer protocol.\n",
      " |      byteorder\n",
      " |        The byte order used to represent the integer.  If byteorder is 'big',\n",
      " |        the most significant byte is at the beginning of the byte array.  If\n",
      " |        byteorder is 'little', the most significant byte is at the end of the\n",
      " |        byte array.  To request the native byte order of the host system, use\n",
      " |        `sys.byteorder' as the byte order value.\n",
      " |      signed\n",
      " |        Indicates whether two's complement is used to represent the integer.\n",
      " |  \n",
      " |  ----------------------------------------------------------------------\n",
      " |  Static methods defined here:\n",
      " |  \n",
      " |  __new__(*args, **kwargs) from builtins.type\n",
      " |      Create and return a new object.  See help(type) for accurate signature.\n",
      " |  \n",
      " |  ----------------------------------------------------------------------\n",
      " |  Data descriptors defined here:\n",
      " |  \n",
      " |  denominator\n",
      " |      the denominator of a rational number in lowest terms\n",
      " |  \n",
      " |  imag\n",
      " |      the imaginary part of a complex number\n",
      " |  \n",
      " |  numerator\n",
      " |      the numerator of a rational number in lowest terms\n",
      " |  \n",
      " |  real\n",
      " |      the real part of a complex number\n",
      "\n",
      "None\n"
     ]
    }
   ],
   "source": [
    "print(help(int))"
   ]
  },
  {
   "cell_type": "code",
   "execution_count": 12,
   "id": "ba936208-32d4-4881-9c77-623c2be71feb",
   "metadata": {},
   "outputs": [
    {
     "name": "stdout",
     "output_type": "stream",
     "text": [
      "Help on getset descriptor builtins.int.numerator:\n",
      "\n",
      "numerator\n",
      "    the numerator of a rational number in lowest terms\n",
      "\n"
     ]
    }
   ],
   "source": [
    "help(int.numerator)"
   ]
  },
  {
   "cell_type": "code",
   "execution_count": 13,
   "id": "8422a620-0ba7-42fd-948a-53070a027526",
   "metadata": {},
   "outputs": [
    {
     "name": "stdout",
     "output_type": "stream",
     "text": [
      "['__all__', '__builtins__', '__cached__', '__doc__', '__file__', '__loader__', '__name__', '__package__', '__spec__', 'iskeyword', 'issoftkeyword', 'kwlist', 'softkwlist']\n"
     ]
    }
   ],
   "source": [
    "print(dir(keyword))"
   ]
  },
  {
   "cell_type": "code",
   "execution_count": 17,
   "id": "0ff09efd-1352-467b-81de-0bea66e5a024",
   "metadata": {},
   "outputs": [
    {
     "name": "stdout",
     "output_type": "stream",
     "text": [
      "['__add__', '__class__', '__class_getitem__', '__contains__', '__delattr__', '__delitem__', '__dir__', '__doc__', '__eq__', '__format__', '__ge__', '__getattribute__', '__getitem__', '__gt__', '__hash__', '__iadd__', '__imul__', '__init__', '__init_subclass__', '__iter__', '__le__', '__len__', '__lt__', '__mul__', '__ne__', '__new__', '__reduce__', '__reduce_ex__', '__repr__', '__reversed__', '__rmul__', '__setattr__', '__setitem__', '__sizeof__', '__str__', '__subclasshook__', 'append', 'clear', 'copy', 'count', 'extend', 'index', 'insert', 'pop', 'remove', 'reverse', 'sort']\n"
     ]
    }
   ],
   "source": [
    "print(dir(keyword.kwlist))"
   ]
  },
  {
   "cell_type": "code",
   "execution_count": 19,
   "id": "bfa1e43a-5016-40c2-924c-3755fe6c17cf",
   "metadata": {},
   "outputs": [],
   "source": [
    "import keyword"
   ]
  },
  {
   "cell_type": "code",
   "execution_count": 22,
   "id": "3ca4150f-e9ce-42c7-beb2-98c0c1c38673",
   "metadata": {},
   "outputs": [
    {
     "name": "stdout",
     "output_type": "stream",
     "text": [
      "['False', 'None', 'True', '__peg_parser__', 'and', 'as', 'assert', 'async', 'await', 'break', 'class', 'continue', 'def', 'del', 'elif', 'else', 'except', 'finally', 'for', 'from', 'global', 'if', 'import', 'in', 'is', 'lambda', 'nonlocal', 'not', 'or', 'pass', 'raise', 'return', 'try', 'while', 'with', 'yield']\n"
     ]
    }
   ],
   "source": [
    "print(keyword.kwlist)"
   ]
  },
  {
   "cell_type": "code",
   "execution_count": 23,
   "id": "24aafff5-8c27-4e3b-8e40-ae77d1194042",
   "metadata": {},
   "outputs": [
    {
     "name": "stdout",
     "output_type": "stream",
     "text": [
      "['__add__', '__class__', '__class_getitem__', '__contains__', '__delattr__', '__delitem__', '__dir__', '__doc__', '__eq__', '__format__', '__ge__', '__getattribute__', '__getitem__', '__gt__', '__hash__', '__iadd__', '__imul__', '__init__', '__init_subclass__', '__iter__', '__le__', '__len__', '__lt__', '__mul__', '__ne__', '__new__', '__reduce__', '__reduce_ex__', '__repr__', '__reversed__', '__rmul__', '__setattr__', '__setitem__', '__sizeof__', '__str__', '__subclasshook__', 'append', 'clear', 'copy', 'count', 'extend', 'index', 'insert', 'pop', 'remove', 'reverse', 'sort']\n"
     ]
    }
   ],
   "source": [
    "print(dir(list))"
   ]
  },
  {
   "cell_type": "code",
   "execution_count": 24,
   "id": "865d7a2a-4a67-4890-b905-8ad906b23b38",
   "metadata": {},
   "outputs": [
    {
     "name": "stdout",
     "output_type": "stream",
     "text": [
      "Append object to the end of the list.\n"
     ]
    }
   ],
   "source": [
    "print(list.append.__doc__)"
   ]
  },
  {
   "cell_type": "code",
   "execution_count": 27,
   "id": "a8df773b-db5c-47f4-88f8-43734e3374dd",
   "metadata": {},
   "outputs": [
    {
     "name": "stdout",
     "output_type": "stream",
     "text": [
      "[1, 45.021, 'Tarun', (4+5j), 1, 1, 1, '56.00', False] <class 'list'>\n"
     ]
    }
   ],
   "source": [
    "k = [1,45.021,\"Tarun\",4+5j,1,1,1,\"56.00\",False]\n",
    "print(k,type(k))"
   ]
  },
  {
   "cell_type": "code",
   "execution_count": 28,
   "id": "d2d67d8b-e782-4faf-9a57-fb2108583fd7",
   "metadata": {},
   "outputs": [
    {
     "name": "stdout",
     "output_type": "stream",
     "text": [
      "1 <class 'int'>\n",
      "45.021 <class 'float'>\n",
      "Tarun <class 'str'>\n",
      "(4+5j) <class 'complex'>\n",
      "1 <class 'int'>\n",
      "1 <class 'int'>\n",
      "1 <class 'int'>\n",
      "56.00 <class 'str'>\n",
      "False <class 'bool'>\n"
     ]
    }
   ],
   "source": [
    "for i in k:\n",
    "    print(i,type(i))"
   ]
  },
  {
   "cell_type": "code",
   "execution_count": 31,
   "id": "b102f543-ea90-4bbf-ae8f-145c9a4c27ed",
   "metadata": {},
   "outputs": [
    {
     "name": "stdout",
     "output_type": "stream",
     "text": [
      "0 => <class 'int'>,1 => <class 'int'>\n",
      "1 => <class 'int'>,45.021 => <class 'float'>\n",
      "2 => <class 'int'>,Tarun => <class 'str'>\n",
      "3 => <class 'int'>,(4+5j) => <class 'complex'>\n",
      "4 => <class 'int'>,1 => <class 'int'>\n",
      "5 => <class 'int'>,1 => <class 'int'>\n",
      "6 => <class 'int'>,1 => <class 'int'>\n",
      "7 => <class 'int'>,56.00 => <class 'str'>\n",
      "8 => <class 'int'>,False => <class 'bool'>\n"
     ]
    }
   ],
   "source": [
    "for i in range(len(k)):\n",
    "    print(f\"{i} => {type(i)},{k[i]} => {type(k[i])}\")"
   ]
  },
  {
   "cell_type": "code",
   "execution_count": 32,
   "id": "9c0f6322-f638-4ccd-aaf8-a6af82aa04f7",
   "metadata": {},
   "outputs": [
    {
     "name": "stdout",
     "output_type": "stream",
     "text": [
      "[] <class 'list'>\n",
      "[] <class 'list'>\n"
     ]
    }
   ],
   "source": [
    "a,b = [],list()\n",
    "print(a,type(a))\n",
    "print(b,type(b))"
   ]
  },
  {
   "cell_type": "code",
   "execution_count": 33,
   "id": "e5e91d2e-61a1-4179-ab0b-3e315a773981",
   "metadata": {},
   "outputs": [
    {
     "name": "stdout",
     "output_type": "stream",
     "text": [
      "[45]\n",
      "[45, 20]\n"
     ]
    }
   ],
   "source": [
    "n = [45]\n",
    "print(n)\n",
    "n.append(20)\n",
    "print(n)"
   ]
  },
  {
   "cell_type": "code",
   "execution_count": 34,
   "id": "0b21a88b-9dd3-4289-b7bb-0f3fa2e25ac2",
   "metadata": {},
   "outputs": [
    {
     "name": "stdout",
     "output_type": "stream",
     "text": [
      "[45, 20]\n"
     ]
    },
    {
     "ename": "TypeError",
     "evalue": "list.append() takes exactly one argument (2 given)",
     "output_type": "error",
     "traceback": [
      "\u001b[1;31m---------------------------------------------------------------------------\u001b[0m",
      "\u001b[1;31mTypeError\u001b[0m                                 Traceback (most recent call last)",
      "Cell \u001b[1;32mIn[34], line 2\u001b[0m\n\u001b[0;32m      1\u001b[0m \u001b[38;5;28mprint\u001b[39m(n)\n\u001b[1;32m----> 2\u001b[0m \u001b[43mn\u001b[49m\u001b[38;5;241;43m.\u001b[39;49m\u001b[43mappend\u001b[49m\u001b[43m(\u001b[49m\u001b[38;5;241;43m56\u001b[39;49m\u001b[43m,\u001b[49m\u001b[38;5;241;43m36\u001b[39;49m\u001b[43m)\u001b[49m\n\u001b[0;32m      3\u001b[0m \u001b[38;5;28mprint\u001b[39m(n)\n",
      "\u001b[1;31mTypeError\u001b[0m: list.append() takes exactly one argument (2 given)"
     ]
    }
   ],
   "source": [
    "print(n)\n",
    "n.append(56,36)\n",
    "print(n)"
   ]
  },
  {
   "cell_type": "code",
   "execution_count": 35,
   "id": "dc202446-ee9a-41e6-b7ed-d019373b85ad",
   "metadata": {},
   "outputs": [
    {
     "name": "stdout",
     "output_type": "stream",
     "text": [
      "[45, 20]\n",
      "[45, 20, [12, 89, 23.011]]\n"
     ]
    }
   ],
   "source": [
    "print(n)\n",
    "n.append([12,89,23.011])\n",
    "print(n)"
   ]
  },
  {
   "cell_type": "code",
   "execution_count": 36,
   "id": "0c822819-9829-4126-a2ce-6a617192193f",
   "metadata": {},
   "outputs": [
    {
     "name": "stdout",
     "output_type": "stream",
     "text": [
      "[45, 20, [12, 89, 23.011]]\n",
      "[45, 20, [12, 89, 23.011], 'Somu']\n"
     ]
    }
   ],
   "source": [
    "print(n)\n",
    "n.append(\"Somu\")\n",
    "print(n)"
   ]
  },
  {
   "cell_type": "code",
   "execution_count": 37,
   "id": "d9123d89-98c2-4a97-9699-a236995bc990",
   "metadata": {},
   "outputs": [
    {
     "name": "stdout",
     "output_type": "stream",
     "text": [
      "['suresh']\n"
     ]
    },
    {
     "ename": "TypeError",
     "evalue": "'int' object is not iterable",
     "output_type": "error",
     "traceback": [
      "\u001b[1;31m---------------------------------------------------------------------------\u001b[0m",
      "\u001b[1;31mTypeError\u001b[0m                                 Traceback (most recent call last)",
      "Cell \u001b[1;32mIn[37], line 3\u001b[0m\n\u001b[0;32m      1\u001b[0m m \u001b[38;5;241m=\u001b[39m [\u001b[38;5;124m\"\u001b[39m\u001b[38;5;124msuresh\u001b[39m\u001b[38;5;124m\"\u001b[39m]\n\u001b[0;32m      2\u001b[0m \u001b[38;5;28mprint\u001b[39m(m)\n\u001b[1;32m----> 3\u001b[0m \u001b[43mm\u001b[49m\u001b[38;5;241;43m.\u001b[39;49m\u001b[43mextend\u001b[49m\u001b[43m(\u001b[49m\u001b[38;5;241;43m56\u001b[39;49m\u001b[43m)\u001b[49m\n\u001b[0;32m      4\u001b[0m \u001b[38;5;28mprint\u001b[39m(m)\n",
      "\u001b[1;31mTypeError\u001b[0m: 'int' object is not iterable"
     ]
    }
   ],
   "source": [
    "m = [\"suresh\"]\n",
    "print(m)\n",
    "m.extend(56)\n",
    "print(m)"
   ]
  },
  {
   "cell_type": "code",
   "execution_count": 38,
   "id": "3507a2e7-050e-4e1a-99fb-632695e769b1",
   "metadata": {},
   "outputs": [
    {
     "name": "stdout",
     "output_type": "stream",
     "text": [
      "['suresh']\n",
      "['suresh', 'T', 'i', 'l', 'a', 'k']\n"
     ]
    }
   ],
   "source": [
    "print(m)\n",
    "m.extend(\"Tilak\")\n",
    "print(m)"
   ]
  },
  {
   "cell_type": "code",
   "execution_count": 39,
   "id": "16edded5-f7e2-47e5-aaba-9130139c9e19",
   "metadata": {},
   "outputs": [
    {
     "name": "stdout",
     "output_type": "stream",
     "text": [
      "['suresh', 'T', 'i', 'l', 'a', 'k']\n",
      "['suresh', 'T', 'i', 'l', 'a', 'k', 45, 23, 89.015, False]\n"
     ]
    }
   ],
   "source": [
    "print(m)\n",
    "m.extend([45,23,89.015,False])\n",
    "print(m)"
   ]
  },
  {
   "cell_type": "code",
   "execution_count": 40,
   "id": "0a4d5b74-7992-4f15-beeb-2959c3a7592c",
   "metadata": {},
   "outputs": [
    {
     "name": "stdout",
     "output_type": "stream",
     "text": [
      "[]\n"
     ]
    },
    {
     "ename": "TypeError",
     "evalue": "insert expected 2 arguments, got 1",
     "output_type": "error",
     "traceback": [
      "\u001b[1;31m---------------------------------------------------------------------------\u001b[0m",
      "\u001b[1;31mTypeError\u001b[0m                                 Traceback (most recent call last)",
      "Cell \u001b[1;32mIn[40], line 3\u001b[0m\n\u001b[0;32m      1\u001b[0m p \u001b[38;5;241m=\u001b[39m []\n\u001b[0;32m      2\u001b[0m \u001b[38;5;28mprint\u001b[39m(p)\n\u001b[1;32m----> 3\u001b[0m \u001b[43mp\u001b[49m\u001b[38;5;241;43m.\u001b[39;49m\u001b[43minsert\u001b[49m\u001b[43m(\u001b[49m\u001b[38;5;241;43m89\u001b[39;49m\u001b[43m)\u001b[49m\n\u001b[0;32m      4\u001b[0m \u001b[38;5;28mprint\u001b[39m(p)\n",
      "\u001b[1;31mTypeError\u001b[0m: insert expected 2 arguments, got 1"
     ]
    }
   ],
   "source": [
    "p = []\n",
    "print(p)\n",
    "p.insert(89)\n",
    "print(p)"
   ]
  },
  {
   "cell_type": "code",
   "execution_count": 41,
   "id": "7cf1f46e-7626-4c99-b03d-fe8ac066faab",
   "metadata": {},
   "outputs": [
    {
     "name": "stdout",
     "output_type": "stream",
     "text": [
      "[]\n",
      "['Ramu']\n"
     ]
    }
   ],
   "source": [
    "print(p)\n",
    "p.insert(0,\"Ramu\")\n",
    "print(p)"
   ]
  },
  {
   "cell_type": "code",
   "execution_count": 42,
   "id": "6eb3d996-f684-42c9-bc33-4b44ad955567",
   "metadata": {},
   "outputs": [
    {
     "name": "stdout",
     "output_type": "stream",
     "text": [
      "['Ramu']\n",
      "['Ramu', 45]\n"
     ]
    }
   ],
   "source": [
    "print(p)\n",
    "p.insert(2,45)\n",
    "print(p)"
   ]
  },
  {
   "cell_type": "code",
   "execution_count": 43,
   "id": "2cb1cb45-bf5a-4fd8-9094-0b4118175c4f",
   "metadata": {},
   "outputs": [
    {
     "name": "stdout",
     "output_type": "stream",
     "text": [
      "[2, 45, 6, 7, 90.154]\n",
      "1\n",
      "[2, 45, 6, 7, 90.154]\n"
     ]
    }
   ],
   "source": [
    "s = [2,45,6,7,90.154]\n",
    "print(s)\n",
    "print(s.count(45))\n",
    "print(s)"
   ]
  },
  {
   "cell_type": "code",
   "execution_count": 44,
   "id": "83ebd595-0ec1-401e-8686-424a38d6c6e7",
   "metadata": {},
   "outputs": [
    {
     "name": "stdout",
     "output_type": "stream",
     "text": [
      "[2, 45, 6, 7, 90.154]\n",
      "0\n",
      "[2, 45, 6, 7, 90.154]\n"
     ]
    }
   ],
   "source": [
    "print(s)\n",
    "print(s.count(-89))\n",
    "print(s)"
   ]
  },
  {
   "cell_type": "code",
   "execution_count": 45,
   "id": "c9f855fd-dc18-4a02-8bc1-a7a07e3573bb",
   "metadata": {},
   "outputs": [
    {
     "name": "stdout",
     "output_type": "stream",
     "text": [
      "[23, 12.021, 'Rajesh', 78]\n",
      "[23, 12.021, 'Rajesh']\n"
     ]
    }
   ],
   "source": [
    "y = [23,12.021,\"Rajesh\",78]\n",
    "print(y)\n",
    "y.pop()\n",
    "print(y)"
   ]
  },
  {
   "cell_type": "code",
   "execution_count": 46,
   "id": "663dc29f-fe9b-493d-91cf-b7506a8ed007",
   "metadata": {},
   "outputs": [
    {
     "name": "stdout",
     "output_type": "stream",
     "text": [
      "[23, 12.021, 'Rajesh']\n"
     ]
    },
    {
     "ename": "IndexError",
     "evalue": "pop index out of range",
     "output_type": "error",
     "traceback": [
      "\u001b[1;31m---------------------------------------------------------------------------\u001b[0m",
      "\u001b[1;31mIndexError\u001b[0m                                Traceback (most recent call last)",
      "Cell \u001b[1;32mIn[46], line 2\u001b[0m\n\u001b[0;32m      1\u001b[0m \u001b[38;5;28mprint\u001b[39m(y)\n\u001b[1;32m----> 2\u001b[0m \u001b[43my\u001b[49m\u001b[38;5;241;43m.\u001b[39;49m\u001b[43mpop\u001b[49m\u001b[43m(\u001b[49m\u001b[38;5;241;43m23\u001b[39;49m\u001b[43m)\u001b[49m\n\u001b[0;32m      3\u001b[0m \u001b[38;5;28mprint\u001b[39m(y)\n",
      "\u001b[1;31mIndexError\u001b[0m: pop index out of range"
     ]
    }
   ],
   "source": [
    "print(y)\n",
    "y.pop(23)\n",
    "print(y)"
   ]
  },
  {
   "cell_type": "code",
   "execution_count": 47,
   "id": "2db29967-3d65-4994-89dd-c54bf64d7da2",
   "metadata": {},
   "outputs": [
    {
     "name": "stdout",
     "output_type": "stream",
     "text": [
      "[23, 12.021, 'Rajesh']\n",
      "[12.021, 'Rajesh']\n"
     ]
    }
   ],
   "source": [
    "print(y)\n",
    "y.pop(0)\n",
    "print(y)"
   ]
  },
  {
   "cell_type": "code",
   "execution_count": 48,
   "id": "aae19b43-ce4b-4be5-88f4-a3fe762da487",
   "metadata": {},
   "outputs": [
    {
     "name": "stdout",
     "output_type": "stream",
     "text": [
      "[45, 89, 23.0212, 89, 56.0151]\n"
     ]
    },
    {
     "ename": "TypeError",
     "evalue": "list.remove() takes exactly one argument (0 given)",
     "output_type": "error",
     "traceback": [
      "\u001b[1;31m---------------------------------------------------------------------------\u001b[0m",
      "\u001b[1;31mTypeError\u001b[0m                                 Traceback (most recent call last)",
      "Cell \u001b[1;32mIn[48], line 3\u001b[0m\n\u001b[0;32m      1\u001b[0m t \u001b[38;5;241m=\u001b[39m [\u001b[38;5;241m45\u001b[39m,\u001b[38;5;241m89\u001b[39m,\u001b[38;5;241m23.0212\u001b[39m,\u001b[38;5;241m89\u001b[39m,\u001b[38;5;241m56.0151\u001b[39m]\n\u001b[0;32m      2\u001b[0m \u001b[38;5;28mprint\u001b[39m(t)\n\u001b[1;32m----> 3\u001b[0m \u001b[43mt\u001b[49m\u001b[38;5;241;43m.\u001b[39;49m\u001b[43mremove\u001b[49m\u001b[43m(\u001b[49m\u001b[43m)\u001b[49m\n\u001b[0;32m      4\u001b[0m \u001b[38;5;28mprint\u001b[39m(t)\n",
      "\u001b[1;31mTypeError\u001b[0m: list.remove() takes exactly one argument (0 given)"
     ]
    }
   ],
   "source": [
    "t = [45,89,23.0212,89,56.0151]\n",
    "print(t)\n",
    "t.remove()\n",
    "print(t)"
   ]
  },
  {
   "cell_type": "code",
   "execution_count": 49,
   "id": "9551820a-2808-4f9b-b4c6-7bac1f0debe6",
   "metadata": {},
   "outputs": [
    {
     "name": "stdout",
     "output_type": "stream",
     "text": [
      "[45, 89, 23.0212, 89, 56.0151]\n",
      "[45, 23.0212, 89, 56.0151]\n"
     ]
    }
   ],
   "source": [
    "t = [45,89,23.0212,89,56.0151]\n",
    "print(t)\n",
    "t.remove(89)\n",
    "print(t)"
   ]
  },
  {
   "cell_type": "code",
   "execution_count": 50,
   "id": "bf2dd4a0-5c7e-4922-8a0b-39e5c157bafc",
   "metadata": {},
   "outputs": [
    {
     "name": "stdout",
     "output_type": "stream",
     "text": [
      "[2, 45, 1, 676, 90]\n",
      "[1, 2, 45, 90, 676]\n"
     ]
    }
   ],
   "source": [
    "b = [2,45,1,676,90]\n",
    "print(b)\n",
    "b.sort()\n",
    "print(b)"
   ]
  },
  {
   "cell_type": "code",
   "execution_count": 1,
   "id": "9abd31ac-be58-4911-9437-3215f5abe753",
   "metadata": {},
   "outputs": [
    {
     "name": "stdout",
     "output_type": "stream",
     "text": [
      "[12, 89, 3, 45, 5]\n",
      "[89, 45, 12, 5, 3]\n"
     ]
    }
   ],
   "source": [
    "a = [12,89,3,45,5]\n",
    "print(a)\n",
    "a.sort(reverse=True)\n",
    "print(a)"
   ]
  },
  {
   "cell_type": "code",
   "execution_count": 2,
   "id": "712be1ff-feca-4bbf-9a66-8c33e7178561",
   "metadata": {},
   "outputs": [
    {
     "name": "stdout",
     "output_type": "stream",
     "text": [
      "[34, 67, 34, 56, 8, 90, 23]\n",
      "[23, 90, 8, 56, 34, 67, 34]\n"
     ]
    }
   ],
   "source": [
    "z = [34,67,34,56,8,90,23]\n",
    "print(z)\n",
    "z.reverse()\n",
    "print(z)"
   ]
  },
  {
   "cell_type": "code",
   "execution_count": 3,
   "id": "d190223e-eb5a-41d7-b013-e4503f0dbfd0",
   "metadata": {},
   "outputs": [
    {
     "name": "stdout",
     "output_type": "stream",
     "text": [
      "[23, 90, 8, 56, 34, 67, 34]\n",
      "[]\n"
     ]
    }
   ],
   "source": [
    "print(z)\n",
    "z.clear()\n",
    "print(z)"
   ]
  },
  {
   "cell_type": "code",
   "execution_count": 4,
   "id": "74bc2151-aea4-452e-bfbb-832f2942af70",
   "metadata": {},
   "outputs": [
    {
     "name": "stdout",
     "output_type": "stream",
     "text": [
      "[45, 67, 'db', '4564.021']\n"
     ]
    },
    {
     "ename": "NameError",
     "evalue": "name 'r' is not defined",
     "output_type": "error",
     "traceback": [
      "\u001b[1;31m---------------------------------------------------------------------------\u001b[0m",
      "\u001b[1;31mNameError\u001b[0m                                 Traceback (most recent call last)",
      "Cell \u001b[1;32mIn[4], line 4\u001b[0m\n\u001b[0;32m      2\u001b[0m \u001b[38;5;28mprint\u001b[39m(r)\n\u001b[0;32m      3\u001b[0m \u001b[38;5;28;01mdel\u001b[39;00m r\n\u001b[1;32m----> 4\u001b[0m \u001b[38;5;28mprint\u001b[39m(\u001b[43mr\u001b[49m)\n",
      "\u001b[1;31mNameError\u001b[0m: name 'r' is not defined"
     ]
    }
   ],
   "source": [
    "r = [45,67,\"db\",\"4564.021\"]\n",
    "print(r)\n",
    "del r\n",
    "print(r)"
   ]
  },
  {
   "cell_type": "code",
   "execution_count": 5,
   "id": "bd762ba6-2323-4ed3-bf18-f61971e1d446",
   "metadata": {},
   "outputs": [
    {
     "name": "stdout",
     "output_type": "stream",
     "text": [
      "[34, 45.05, 'Uma']\n",
      "[34, 45.05, 'Uma']\n",
      "[34, 45.05, 'Uma']\n"
     ]
    }
   ],
   "source": [
    "d = [34,45.05,\"Uma\"]\n",
    "print(d)\n",
    "f = d.copy()\n",
    "print(d)\n",
    "print(f)"
   ]
  },
  {
   "cell_type": "code",
   "execution_count": 6,
   "id": "3008445b-2609-4249-9a5e-1d35d3885d3e",
   "metadata": {},
   "outputs": [
    {
     "name": "stdout",
     "output_type": "stream",
     "text": [
      "[34, 45.05, 'Uma']\n",
      "[34, 45.05]\n",
      "[34, 45.05, 'Uma']\n"
     ]
    }
   ],
   "source": [
    "print(d)\n",
    "d.pop()\n",
    "print(d)\n",
    "print(f)"
   ]
  },
  {
   "cell_type": "code",
   "execution_count": 8,
   "id": "3d275219-84e4-43c0-97bc-b73502b0ab11",
   "metadata": {},
   "outputs": [
    {
     "name": "stdout",
     "output_type": "stream",
     "text": [
      "[34, 45.05, 'Uma']\n",
      "[45.05, 'Uma']\n",
      "[34, 45.05]\n"
     ]
    }
   ],
   "source": [
    "print(f)\n",
    "f.remove(34)\n",
    "print(f)\n",
    "print(d)"
   ]
  },
  {
   "cell_type": "code",
   "execution_count": 10,
   "id": "f5c5e9b0-ceb4-4bbd-9307-b5f272707eca",
   "metadata": {},
   "outputs": [
    {
     "name": "stdout",
     "output_type": "stream",
     "text": [
      "[56, 89, 908, 56, 4, 56, 78]\n"
     ]
    },
    {
     "ename": "TypeError",
     "evalue": "index expected at least 1 argument, got 0",
     "output_type": "error",
     "traceback": [
      "\u001b[1;31m---------------------------------------------------------------------------\u001b[0m",
      "\u001b[1;31mTypeError\u001b[0m                                 Traceback (most recent call last)",
      "Cell \u001b[1;32mIn[10], line 3\u001b[0m\n\u001b[0;32m      1\u001b[0m e \u001b[38;5;241m=\u001b[39m [\u001b[38;5;241m56\u001b[39m,\u001b[38;5;241m89\u001b[39m,\u001b[38;5;241m908\u001b[39m,\u001b[38;5;241m56\u001b[39m,\u001b[38;5;241m4\u001b[39m,\u001b[38;5;241m56\u001b[39m,\u001b[38;5;241m78\u001b[39m]\n\u001b[0;32m      2\u001b[0m \u001b[38;5;28mprint\u001b[39m(e)\n\u001b[1;32m----> 3\u001b[0m \u001b[38;5;28mprint\u001b[39m(\u001b[43me\u001b[49m\u001b[38;5;241;43m.\u001b[39;49m\u001b[43mindex\u001b[49m\u001b[43m(\u001b[49m\u001b[43m)\u001b[49m)\n\u001b[0;32m      4\u001b[0m \u001b[38;5;28mprint\u001b[39m(e)\n",
      "\u001b[1;31mTypeError\u001b[0m: index expected at least 1 argument, got 0"
     ]
    }
   ],
   "source": [
    "e = [56,89,908,56,4,56,78]\n",
    "print(e)\n",
    "print(e.index())\n",
    "print(e)"
   ]
  },
  {
   "cell_type": "code",
   "execution_count": 11,
   "id": "28392c05-488d-4afe-b72d-7c6f75890127",
   "metadata": {},
   "outputs": [
    {
     "name": "stdout",
     "output_type": "stream",
     "text": [
      "[56, 89, 908, 56, 4, 56, 78]\n",
      "0\n",
      "[56, 89, 908, 56, 4, 56, 78]\n"
     ]
    }
   ],
   "source": [
    "e = [56,89,908,56,4,56,78]\n",
    "print(e)\n",
    "print(e.index(56))\n",
    "print(e)"
   ]
  },
  {
   "cell_type": "code",
   "execution_count": 12,
   "id": "8d91919a-a1cf-4af0-99b2-8e518fe77d33",
   "metadata": {},
   "outputs": [
    {
     "name": "stdout",
     "output_type": "stream",
     "text": [
      "[56, 89, 908, 56, 4, 56, 78]\n"
     ]
    },
    {
     "ename": "ValueError",
     "evalue": "-100 is not in list",
     "output_type": "error",
     "traceback": [
      "\u001b[1;31m---------------------------------------------------------------------------\u001b[0m",
      "\u001b[1;31mValueError\u001b[0m                                Traceback (most recent call last)",
      "Cell \u001b[1;32mIn[12], line 2\u001b[0m\n\u001b[0;32m      1\u001b[0m \u001b[38;5;28mprint\u001b[39m(e)\n\u001b[1;32m----> 2\u001b[0m \u001b[38;5;28mprint\u001b[39m(\u001b[43me\u001b[49m\u001b[38;5;241;43m.\u001b[39;49m\u001b[43mindex\u001b[49m\u001b[43m(\u001b[49m\u001b[38;5;241;43m-\u001b[39;49m\u001b[38;5;241;43m100\u001b[39;49m\u001b[43m)\u001b[49m)\n\u001b[0;32m      3\u001b[0m \u001b[38;5;28mprint\u001b[39m(e)\n",
      "\u001b[1;31mValueError\u001b[0m: -100 is not in list"
     ]
    }
   ],
   "source": [
    "print(e)\n",
    "print(e.index(-100))\n",
    "print(e)"
   ]
  },
  {
   "cell_type": "code",
   "execution_count": 9,
   "id": "5f58c671-4a6b-42e5-b530-d789f4206682",
   "metadata": {},
   "outputs": [
    {
     "name": "stdout",
     "output_type": "stream",
     "text": [
      "[12, 56.0212, False, (12+5j), 'Ganesh', 12, 56, 78, 78]\n",
      "[12, 56.0212, False, (12+5j), 'Ganesh', 12, 56, 78, 78]\n",
      "[12, 56.0212, False, (12+5j), 'Ganesh', 12, 56, 78, 78]\n"
     ]
    }
   ],
   "source": [
    "c = [12,56.0212,False,12+5j,\"Ganesh\",12,56,78,78]\n",
    "print(c)\n",
    "print(c[:])\n",
    "print(c[::])"
   ]
  },
  {
   "cell_type": "code",
   "execution_count": 16,
   "id": "e117daa3-5dd8-4c12-8d24-935a2922184a",
   "metadata": {},
   "outputs": [
    {
     "name": "stdout",
     "output_type": "stream",
     "text": [
      "[12, 56.0212, False, (12+5j), 'Ganesh', 12, 56, 78, 78]\n",
      "False\n",
      "12\n",
      "78\n"
     ]
    }
   ],
   "source": [
    "print(c)\n",
    "print(c[2])\n",
    "print(c[5])\n",
    "# print(c[23])\n",
    "print(c[-1])"
   ]
  },
  {
   "cell_type": "code",
   "execution_count": 33,
   "id": "95baaf93-b69f-47b9-a756-2267da9f8bcb",
   "metadata": {},
   "outputs": [
    {
     "name": "stdout",
     "output_type": "stream",
     "text": [
      "[12, 56.0212, False, (12+5j), 'Ganesh', 12, 56, 78, 78]\n",
      "[12, 56.0212, False, (12+5j), 'Ganesh']\n",
      "[12, 56.0212, False, (12+5j), 'Ganesh', 12]\n",
      "[12, 56.0212, False]\n",
      "[False, (12+5j), 'Ganesh', 12, 56, 78, 78]\n",
      "[12, 56, 78, 78]\n",
      "[False, (12+5j), 'Ganesh', 12]\n",
      "[(12+5j), 'Ganesh']\n",
      "[False]\n",
      "['Ganesh', 12, 56]\n"
     ]
    }
   ],
   "source": [
    "print(c)\n",
    "print(c[:5])\n",
    "print(c[:-3])\n",
    "print(c[:-6])\n",
    "print(c[2:])\n",
    "print(c[-4:])\n",
    "print(c[2:6])\n",
    "print(c[3:-4])\n",
    "print(c[2:-6])\n",
    "print(c[-5:-2])"
   ]
  },
  {
   "cell_type": "code",
   "execution_count": 54,
   "id": "f94abcd5-217a-457f-81d5-c907c8219bbb",
   "metadata": {},
   "outputs": [
    {
     "name": "stdout",
     "output_type": "stream",
     "text": [
      "[12, 56.0212, False, (12+5j), 'Ganesh', 12, 56, 78, 78]\n",
      "[False, (12+5j), 'Ganesh', 12, 56, 78, 78]\n",
      "[12, 56.0212, False, (12+5j), 'Ganesh']\n",
      "[12, (12+5j), 56]\n",
      "[56, 78, 78]\n",
      "[12, 56.0212, False, (12+5j)]\n",
      "[78, 78, 56, 12, 'Ganesh', (12+5j), False, 56.0212, 12]\n",
      "[(12+5j), 'Ganesh', 12, 56]\n",
      "[56, 78]\n",
      "[False, 12]\n",
      "[False]\n",
      "[56]\n",
      "[(12+5j)]\n",
      "[78, 56, 12, 'Ganesh']\n"
     ]
    }
   ],
   "source": [
    "print(c[::])\n",
    "print(c[2::])\n",
    "print(c[:5:])\n",
    "print(c[::3])\n",
    "print(c[-3::])\n",
    "print(c[:-5:])\n",
    "print(c[::-1])\n",
    "print(c[3:7:])\n",
    "print(c[-3:8:])\n",
    "print(c[2:7:3])\n",
    "print(c[2:-6:2])\n",
    "print(c[6:-4:-3])\n",
    "print(c[-6:5:2])\n",
    "print(c[-2:-6:-1])"
   ]
  },
  {
   "cell_type": "code",
   "execution_count": 55,
   "id": "f9f231f8-c5c5-4e75-8803-ae64f473b738",
   "metadata": {},
   "outputs": [
    {
     "name": "stdout",
     "output_type": "stream",
     "text": [
      "(34, 6) <class 'tuple'>\n"
     ]
    }
   ],
   "source": [
    "g = (34,6)\n",
    "print(g,type(g))"
   ]
  },
  {
   "cell_type": "code",
   "execution_count": 56,
   "id": "bd5a4e3c-df58-4d4b-baec-564f28064ef0",
   "metadata": {},
   "outputs": [
    {
     "name": "stdout",
     "output_type": "stream",
     "text": [
      "() <class 'tuple'>\n",
      "() <class 'tuple'>\n"
     ]
    }
   ],
   "source": [
    "e,k = (),tuple()\n",
    "print(e,type(e))\n",
    "print(k,type(k))"
   ]
  },
  {
   "cell_type": "code",
   "execution_count": 57,
   "id": "1e150195-2791-4c30-857f-5b2aaa5aa8cd",
   "metadata": {},
   "outputs": [
    {
     "name": "stdout",
     "output_type": "stream",
     "text": [
      "(45, 56.0212, 'Lalitha', True, (89+45j), 45, 3, 3, 3)\n",
      "(45, 56.0212, 'Lalitha', True, (89+45j), 45, 3, 3, 3)\n",
      "(45, 56.0212, 'Lalitha', True, (89+45j), 45, 3, 3, 3)\n"
     ]
    }
   ],
   "source": [
    "w = (45,56.0212,\"Lalitha\",True,89+45j,45,3,3,3)\n",
    "print(w)\n",
    "print(w[:])\n",
    "print(w[::])"
   ]
  },
  {
   "cell_type": "code",
   "execution_count": 60,
   "id": "78b159ee-cc96-4986-9583-a4e47a8ff880",
   "metadata": {},
   "outputs": [
    {
     "name": "stdout",
     "output_type": "stream",
     "text": [
      "0 => <class 'int'>, 45 => <class 'int'>\n",
      "1 => <class 'int'>, 56.0212 => <class 'float'>\n",
      "2 => <class 'int'>, Lalitha => <class 'str'>\n",
      "3 => <class 'int'>, True => <class 'bool'>\n",
      "4 => <class 'int'>, (89+45j) => <class 'complex'>\n",
      "5 => <class 'int'>, 45 => <class 'int'>\n",
      "6 => <class 'int'>, 3 => <class 'int'>\n",
      "7 => <class 'int'>, 3 => <class 'int'>\n",
      "8 => <class 'int'>, 3 => <class 'int'>\n"
     ]
    }
   ],
   "source": [
    "for i in range(len(w)):\n",
    "    print(f\"{i} => {type(i)}, {w[i]} => {type(w[i])}\")"
   ]
  },
  {
   "cell_type": "code",
   "execution_count": 61,
   "id": "06287cf4-05e2-4c13-81c8-8dd21066d994",
   "metadata": {},
   "outputs": [
    {
     "name": "stdout",
     "output_type": "stream",
     "text": [
      "45 <class 'int'>\n",
      "56.0212 <class 'float'>\n",
      "Lalitha <class 'str'>\n",
      "True <class 'bool'>\n",
      "(89+45j) <class 'complex'>\n",
      "45 <class 'int'>\n",
      "3 <class 'int'>\n",
      "3 <class 'int'>\n",
      "3 <class 'int'>\n"
     ]
    }
   ],
   "source": [
    "for j in w:\n",
    "    print(j,type(j))"
   ]
  },
  {
   "cell_type": "code",
   "execution_count": 64,
   "id": "84e6f07f-a450-418c-90bd-dc482f5daddb",
   "metadata": {},
   "outputs": [
    {
     "name": "stdout",
     "output_type": "stream",
     "text": [
      "(45, 56.0212, 'Lalitha', True, (89+45j), 45, 3, 3, 3)\n",
      "True\n",
      "('Lalitha', True, (89+45j), 45, 3)\n",
      "('Lalitha', True, (89+45j), 45)\n"
     ]
    }
   ],
   "source": [
    "print(w)\n",
    "print(w[3])\n",
    "print(w[2:7])\n",
    "print(w[2:6:1])"
   ]
  },
  {
   "cell_type": "code",
   "execution_count": 65,
   "id": "63930984-9760-49ae-a366-f8dcfe186b81",
   "metadata": {},
   "outputs": [
    {
     "name": "stdout",
     "output_type": "stream",
     "text": [
      "Built-in immutable sequence.\n",
      "\n",
      "If no argument is given, the constructor returns an empty tuple.\n",
      "If iterable is specified the tuple is initialized from iterable's items.\n",
      "\n",
      "If the argument is a tuple, the return value is the same object.\n"
     ]
    }
   ],
   "source": [
    "print(tuple.__doc__)"
   ]
  },
  {
   "cell_type": "code",
   "execution_count": 66,
   "id": "9b966fd8-207b-4a60-943f-7ead701d281e",
   "metadata": {},
   "outputs": [
    {
     "name": "stdout",
     "output_type": "stream",
     "text": [
      "['__add__', '__class__', '__class_getitem__', '__contains__', '__delattr__', '__dir__', '__doc__', '__eq__', '__format__', '__ge__', '__getattribute__', '__getitem__', '__getnewargs__', '__gt__', '__hash__', '__init__', '__init_subclass__', '__iter__', '__le__', '__len__', '__lt__', '__mul__', '__ne__', '__new__', '__reduce__', '__reduce_ex__', '__repr__', '__rmul__', '__setattr__', '__sizeof__', '__str__', '__subclasshook__', 'count', 'index']\n"
     ]
    }
   ],
   "source": [
    "print(dir(tuple))"
   ]
  },
  {
   "cell_type": "code",
   "execution_count": 67,
   "id": "cb31a2bc-9c50-4cad-bc87-bac280b9cba7",
   "metadata": {},
   "outputs": [
    {
     "name": "stdout",
     "output_type": "stream",
     "text": [
      "(45, 4, 4, 45, 69, 23.0212)\n",
      "2\n",
      "0\n",
      "4\n"
     ]
    },
    {
     "ename": "ValueError",
     "evalue": "tuple.index(x): x not in tuple",
     "output_type": "error",
     "traceback": [
      "\u001b[1;31m---------------------------------------------------------------------------\u001b[0m",
      "\u001b[1;31mValueError\u001b[0m                                Traceback (most recent call last)",
      "Cell \u001b[1;32mIn[67], line 6\u001b[0m\n\u001b[0;32m      4\u001b[0m \u001b[38;5;28mprint\u001b[39m(a\u001b[38;5;241m.\u001b[39mcount(\u001b[38;5;241m-\u001b[39m\u001b[38;5;241m56\u001b[39m))\n\u001b[0;32m      5\u001b[0m \u001b[38;5;28mprint\u001b[39m(a\u001b[38;5;241m.\u001b[39mindex(\u001b[38;5;241m69\u001b[39m))\n\u001b[1;32m----> 6\u001b[0m \u001b[38;5;28mprint\u001b[39m(\u001b[43ma\u001b[49m\u001b[38;5;241;43m.\u001b[39;49m\u001b[43mindex\u001b[49m\u001b[43m(\u001b[49m\u001b[38;5;241;43m-\u001b[39;49m\u001b[38;5;241;43m45\u001b[39;49m\u001b[43m)\u001b[49m)\n",
      "\u001b[1;31mValueError\u001b[0m: tuple.index(x): x not in tuple"
     ]
    }
   ],
   "source": [
    "a = (45,4,4,45,69,23.0212)\n",
    "print(a)\n",
    "print(a.count(4))\n",
    "print(a.count(-56))\n",
    "print(a.index(69))\n",
    "print(a.index(-45))"
   ]
  },
  {
   "cell_type": "code",
   "execution_count": 69,
   "id": "bebdb9a8-3953-4c4a-8000-f73a522ab9b7",
   "metadata": {},
   "outputs": [
    {
     "name": "stdout",
     "output_type": "stream",
     "text": [
      "{1} <class 'set'>\n",
      "set() <class 'set'>\n"
     ]
    }
   ],
   "source": [
    "z,n = {1},set()\n",
    "print(z,type(z))\n",
    "print(n,type(n))"
   ]
  },
  {
   "cell_type": "code",
   "execution_count": 72,
   "id": "38d3ac7a-4804-4065-b21f-f645765795c7",
   "metadata": {},
   "outputs": [
    {
     "name": "stdout",
     "output_type": "stream",
     "text": [
      "{False, 1, (6+9j), '0.157', 0.12, 'Charan', 0.01, 56.021}\n"
     ]
    }
   ],
   "source": [
    "w = {1,56.021,False,\"Charan\",1,1,6+9j,0.12,0.01,\"0.157\"}\n",
    "print(w)"
   ]
  },
  {
   "cell_type": "code",
   "execution_count": 73,
   "id": "e4366329-3fc1-42a3-8d26-860ca0523240",
   "metadata": {},
   "outputs": [
    {
     "data": {
      "text/plain": [
       "{(6+9j), 0.01, 0.12, '0.157', 1, 56.021, 'Charan', False}"
      ]
     },
     "execution_count": 73,
     "metadata": {},
     "output_type": "execute_result"
    }
   ],
   "source": [
    "w"
   ]
  },
  {
   "cell_type": "code",
   "execution_count": 74,
   "id": "4a3b929e-f7ce-4bce-aafd-8ff9e8961561",
   "metadata": {},
   "outputs": [
    {
     "name": "stdout",
     "output_type": "stream",
     "text": [
      "False <class 'bool'>\n",
      "1 <class 'int'>\n",
      "(6+9j) <class 'complex'>\n",
      "0.157 <class 'str'>\n",
      "0.12 <class 'float'>\n",
      "Charan <class 'str'>\n",
      "0.01 <class 'float'>\n",
      "56.021 <class 'float'>\n"
     ]
    }
   ],
   "source": [
    "for i in w:\n",
    "    print(i,type(i))"
   ]
  },
  {
   "cell_type": "code",
   "execution_count": 75,
   "id": "9d3a6422-bba4-4cb9-ac78-2ddd2cb7b022",
   "metadata": {},
   "outputs": [
    {
     "name": "stdout",
     "output_type": "stream",
     "text": [
      "['__and__', '__class__', '__class_getitem__', '__contains__', '__delattr__', '__dir__', '__doc__', '__eq__', '__format__', '__ge__', '__getattribute__', '__gt__', '__hash__', '__iand__', '__init__', '__init_subclass__', '__ior__', '__isub__', '__iter__', '__ixor__', '__le__', '__len__', '__lt__', '__ne__', '__new__', '__or__', '__rand__', '__reduce__', '__reduce_ex__', '__repr__', '__ror__', '__rsub__', '__rxor__', '__setattr__', '__sizeof__', '__str__', '__sub__', '__subclasshook__', '__xor__', 'add', 'clear', 'copy', 'difference', 'difference_update', 'discard', 'intersection', 'intersection_update', 'isdisjoint', 'issubset', 'issuperset', 'pop', 'remove', 'symmetric_difference', 'symmetric_difference_update', 'union', 'update']\n"
     ]
    }
   ],
   "source": [
    "print(dir(set))"
   ]
  },
  {
   "cell_type": "code",
   "execution_count": 76,
   "id": "b4bf68a2-e23c-42e7-b6b1-3c62041a5e9f",
   "metadata": {},
   "outputs": [
    {
     "name": "stdout",
     "output_type": "stream",
     "text": [
      "{4}\n",
      "{67, 4}\n"
     ]
    }
   ],
   "source": [
    "d = {4}\n",
    "print(d)\n",
    "d.add(67)\n",
    "print(d)"
   ]
  },
  {
   "cell_type": "code",
   "execution_count": 77,
   "id": "781ec01e-8337-48c4-8ed5-186f55ad7367",
   "metadata": {},
   "outputs": [
    {
     "name": "stdout",
     "output_type": "stream",
     "text": [
      "{67, 4}\n"
     ]
    },
    {
     "ename": "TypeError",
     "evalue": "set.add() takes exactly one argument (2 given)",
     "output_type": "error",
     "traceback": [
      "\u001b[1;31m---------------------------------------------------------------------------\u001b[0m",
      "\u001b[1;31mTypeError\u001b[0m                                 Traceback (most recent call last)",
      "Cell \u001b[1;32mIn[77], line 2\u001b[0m\n\u001b[0;32m      1\u001b[0m \u001b[38;5;28mprint\u001b[39m(d)\n\u001b[1;32m----> 2\u001b[0m \u001b[43md\u001b[49m\u001b[38;5;241;43m.\u001b[39;49m\u001b[43madd\u001b[49m\u001b[43m(\u001b[49m\u001b[38;5;28;43;01mTrue\u001b[39;49;00m\u001b[43m,\u001b[49m\u001b[38;5;124;43m\"\u001b[39;49m\u001b[38;5;124;43m90\u001b[39;49m\u001b[38;5;124;43m\"\u001b[39;49m\u001b[43m)\u001b[49m\n\u001b[0;32m      3\u001b[0m \u001b[38;5;28mprint\u001b[39m(d)\n",
      "\u001b[1;31mTypeError\u001b[0m: set.add() takes exactly one argument (2 given)"
     ]
    }
   ],
   "source": [
    "print(d)\n",
    "d.add(True,\"90\")\n",
    "print(d)"
   ]
  },
  {
   "cell_type": "code",
   "execution_count": 78,
   "id": "92b0e23c-95fc-45c3-95b9-4be9269fcd06",
   "metadata": {},
   "outputs": [
    {
     "name": "stdout",
     "output_type": "stream",
     "text": [
      "{67, 4}\n"
     ]
    },
    {
     "ename": "TypeError",
     "evalue": "unhashable type: 'list'",
     "output_type": "error",
     "traceback": [
      "\u001b[1;31m---------------------------------------------------------------------------\u001b[0m",
      "\u001b[1;31mTypeError\u001b[0m                                 Traceback (most recent call last)",
      "Cell \u001b[1;32mIn[78], line 2\u001b[0m\n\u001b[0;32m      1\u001b[0m \u001b[38;5;28mprint\u001b[39m(d)\n\u001b[1;32m----> 2\u001b[0m \u001b[43md\u001b[49m\u001b[38;5;241;43m.\u001b[39;49m\u001b[43madd\u001b[49m\u001b[43m(\u001b[49m\u001b[43m[\u001b[49m\u001b[38;5;241;43m3\u001b[39;49m\u001b[43m,\u001b[49m\u001b[38;5;241;43m56\u001b[39;49m\u001b[43m,\u001b[49m\u001b[38;5;241;43m6\u001b[39;49m\u001b[43m,\u001b[49m\u001b[38;5;241;43m7\u001b[39;49m\u001b[43m]\u001b[49m\u001b[43m)\u001b[49m\n\u001b[0;32m      3\u001b[0m \u001b[38;5;28mprint\u001b[39m(d)\n",
      "\u001b[1;31mTypeError\u001b[0m: unhashable type: 'list'"
     ]
    }
   ],
   "source": [
    "print(d)\n",
    "d.add([3,56,6,7])\n",
    "print(d)"
   ]
  },
  {
   "cell_type": "code",
   "execution_count": 79,
   "id": "caa0e54f-0c56-440f-b562-74b8222fb656",
   "metadata": {},
   "outputs": [
    {
     "name": "stdout",
     "output_type": "stream",
     "text": [
      "{67, 4}\n",
      "{'Ramesh Kumar', 67, 4}\n"
     ]
    }
   ],
   "source": [
    "print(d)\n",
    "d.add(\"Ramesh Kumar\")\n",
    "print(d)"
   ]
  },
  {
   "cell_type": "code",
   "execution_count": 80,
   "id": "d3cb5d8a-4be8-4e69-8c78-aca041076d87",
   "metadata": {},
   "outputs": [
    {
     "name": "stdout",
     "output_type": "stream",
     "text": [
      "{'Ramesh Kumar', 67, 4}\n",
      "{'Ramesh Kumar', ('Ramesh Kumar', 45, 7, 89), 67, 4}\n"
     ]
    }
   ],
   "source": [
    "print(d)\n",
    "d.add((\"Ramesh Kumar\",45,7,89))\n",
    "print(d)"
   ]
  },
  {
   "cell_type": "code",
   "execution_count": 81,
   "id": "5807d532-b269-4e58-a07f-a08da2af704d",
   "metadata": {},
   "outputs": [
    {
     "name": "stdout",
     "output_type": "stream",
     "text": [
      "{'45.0212', 934, 7, 8, 45}\n",
      "{934, 7, 8, 45}\n"
     ]
    }
   ],
   "source": [
    "e = {45,7,8,934,'45.0212'}\n",
    "print(e)\n",
    "e.pop()\n",
    "print(e)"
   ]
  },
  {
   "cell_type": "code",
   "execution_count": 82,
   "id": "b2ecc774-80d7-4cc8-a094-0f6eb101f6f1",
   "metadata": {},
   "outputs": [
    {
     "name": "stdout",
     "output_type": "stream",
     "text": [
      "{934, 7, 8, 45}\n"
     ]
    },
    {
     "ename": "TypeError",
     "evalue": "set.pop() takes no arguments (1 given)",
     "output_type": "error",
     "traceback": [
      "\u001b[1;31m---------------------------------------------------------------------------\u001b[0m",
      "\u001b[1;31mTypeError\u001b[0m                                 Traceback (most recent call last)",
      "Cell \u001b[1;32mIn[82], line 2\u001b[0m\n\u001b[0;32m      1\u001b[0m \u001b[38;5;28mprint\u001b[39m(e)\n\u001b[1;32m----> 2\u001b[0m \u001b[43me\u001b[49m\u001b[38;5;241;43m.\u001b[39;49m\u001b[43mpop\u001b[49m\u001b[43m(\u001b[49m\u001b[38;5;241;43m8\u001b[39;49m\u001b[43m)\u001b[49m\n\u001b[0;32m      3\u001b[0m \u001b[38;5;28mprint\u001b[39m(e)\n",
      "\u001b[1;31mTypeError\u001b[0m: set.pop() takes no arguments (1 given)"
     ]
    }
   ],
   "source": [
    "print(e)\n",
    "e.pop(8)\n",
    "print(e)"
   ]
  },
  {
   "cell_type": "code",
   "execution_count": 83,
   "id": "93593a76-341f-44db-9bff-3b837f349a03",
   "metadata": {},
   "outputs": [
    {
     "name": "stdout",
     "output_type": "stream",
     "text": [
      "{False, 'Eswar', 67, 4, 23, 89.12}\n"
     ]
    },
    {
     "ename": "TypeError",
     "evalue": "set.remove() takes exactly one argument (0 given)",
     "output_type": "error",
     "traceback": [
      "\u001b[1;31m---------------------------------------------------------------------------\u001b[0m",
      "\u001b[1;31mTypeError\u001b[0m                                 Traceback (most recent call last)",
      "Cell \u001b[1;32mIn[83], line 3\u001b[0m\n\u001b[0;32m      1\u001b[0m x \u001b[38;5;241m=\u001b[39m {\u001b[38;5;241m4\u001b[39m,\u001b[38;5;241m67\u001b[39m,\u001b[38;5;241m23\u001b[39m,\u001b[38;5;241m89.120\u001b[39m,\u001b[38;5;124m\"\u001b[39m\u001b[38;5;124mEswar\u001b[39m\u001b[38;5;124m\"\u001b[39m,\u001b[38;5;28;01mFalse\u001b[39;00m}\n\u001b[0;32m      2\u001b[0m \u001b[38;5;28mprint\u001b[39m(x)\n\u001b[1;32m----> 3\u001b[0m \u001b[43mx\u001b[49m\u001b[38;5;241;43m.\u001b[39;49m\u001b[43mremove\u001b[49m\u001b[43m(\u001b[49m\u001b[43m)\u001b[49m\n\u001b[0;32m      4\u001b[0m \u001b[38;5;28mprint\u001b[39m(x)\n",
      "\u001b[1;31mTypeError\u001b[0m: set.remove() takes exactly one argument (0 given)"
     ]
    }
   ],
   "source": [
    "x = {4,67,23,89.120,\"Eswar\",False}\n",
    "print(x)\n",
    "x.remove()\n",
    "print(x)"
   ]
  },
  {
   "cell_type": "code",
   "execution_count": 84,
   "id": "7d896bce-eb60-4dd5-a5e3-49ddf0f0e3aa",
   "metadata": {},
   "outputs": [
    {
     "name": "stdout",
     "output_type": "stream",
     "text": [
      "{False, 'Eswar', 67, 4, 23, 89.12}\n",
      "{False, 'Eswar', 67, 23, 89.12}\n"
     ]
    }
   ],
   "source": [
    "print(x)\n",
    "x.remove(4)\n",
    "print(x)"
   ]
  },
  {
   "cell_type": "code",
   "execution_count": 86,
   "id": "3ee74fb8-6ccf-4ef7-a115-b149d0c1f81d",
   "metadata": {},
   "outputs": [
    {
     "name": "stdout",
     "output_type": "stream",
     "text": [
      "{2, 67, 34, 38, 6, 89}\n",
      "{890, 67, 90, 6}\n",
      "{2, 67, 34, 90, 38, 6, 89, 890}\n",
      "{2, 67, 34, 38, 6, 89}\n",
      "{890, 67, 90, 6}\n"
     ]
    }
   ],
   "source": [
    "a = {34,67,38,2,6,89}\n",
    "b = {67,6,890,90}\n",
    "print(a)\n",
    "print(b)\n",
    "print(a.union(b))\n",
    "print(a)\n",
    "print(b)"
   ]
  },
  {
   "cell_type": "code",
   "execution_count": 87,
   "id": "56111320-a8b1-4213-aa09-a1c870442afe",
   "metadata": {},
   "outputs": [
    {
     "name": "stdout",
     "output_type": "stream",
     "text": [
      "{2, 67, 34, 38, 6, 89}\n",
      "{890, 67, 90, 6}\n",
      "{67, 6}\n",
      "{2, 67, 34, 38, 6, 89}\n",
      "{890, 67, 90, 6}\n"
     ]
    }
   ],
   "source": [
    "print(a)\n",
    "print(b)\n",
    "print(a.intersection(b))\n",
    "print(a)\n",
    "print(b)"
   ]
  },
  {
   "cell_type": "code",
   "execution_count": 88,
   "id": "d78378a8-9054-4f5a-95d8-06aba52f1c21",
   "metadata": {},
   "outputs": [
    {
     "name": "stdout",
     "output_type": "stream",
     "text": [
      "{2, 67, 34, 38, 6, 89}\n",
      "{890, 67, 90, 6}\n",
      "{89, 2, 34, 38}\n",
      "{2, 67, 34, 38, 6, 89}\n",
      "{890, 67, 90, 6}\n"
     ]
    }
   ],
   "source": [
    "print(a)\n",
    "print(b)\n",
    "print(a.difference(b))\n",
    "print(a)\n",
    "print(b)"
   ]
  },
  {
   "cell_type": "code",
   "execution_count": 89,
   "id": "69f51e34-f9b5-4250-a801-bea60c2d7857",
   "metadata": {},
   "outputs": [
    {
     "name": "stdout",
     "output_type": "stream",
     "text": [
      "{2, 67, 34, 38, 6, 89}\n",
      "{890, 67, 90, 6}\n",
      "{2, 34, 90, 38, 89, 890}\n",
      "{2, 67, 34, 38, 6, 89}\n",
      "{890, 67, 90, 6}\n"
     ]
    }
   ],
   "source": [
    "print(a)\n",
    "print(b)\n",
    "print(a.symmetric_difference(b))\n",
    "print(a)\n",
    "print(b)"
   ]
  },
  {
   "cell_type": "code",
   "execution_count": 92,
   "id": "62d250cc-4cb0-4c45-88a5-124a3262be11",
   "metadata": {},
   "outputs": [
    {
     "name": "stdout",
     "output_type": "stream",
     "text": [
      "{2, 67, 34, 38, 6, 89}\n",
      "{2, 67, 38, 6, 89}\n"
     ]
    }
   ],
   "source": [
    "print(a)\n",
    "a.discard(34)\n",
    "print(a)"
   ]
  },
  {
   "cell_type": "code",
   "execution_count": 93,
   "id": "5433375f-f761-4fbc-ae60-e71ba07f1db6",
   "metadata": {},
   "outputs": [
    {
     "name": "stdout",
     "output_type": "stream",
     "text": [
      "{67, 7, 8, 90, 45}\n",
      "{89, 45, 78, 7}\n",
      "{45, 7}\n",
      "{89, 45, 78, 7}\n"
     ]
    }
   ],
   "source": [
    "s1 = {45,67,7,8,90}\n",
    "s2 = {45,7,89,78}\n",
    "print(s1)\n",
    "print(s2)\n",
    "s1.intersection_update(s2)\n",
    "print(s1)\n",
    "print(s2)"
   ]
  },
  {
   "cell_type": "code",
   "execution_count": 94,
   "id": "00d60e07-baa0-4b81-81ae-a0698e1410e8",
   "metadata": {},
   "outputs": [
    {
     "name": "stdout",
     "output_type": "stream",
     "text": [
      "{8, 90, 67, 5}\n",
      "{8, 900, 5, 677}\n",
      "{67, 90}\n",
      "{8, 900, 5, 677}\n"
     ]
    }
   ],
   "source": [
    "n = {5,67,8,90}\n",
    "m = {5,8,900,677}\n",
    "print(n)\n",
    "print(m)\n",
    "n.difference_update(m)\n",
    "print(n)\n",
    "print(m)"
   ]
  },
  {
   "cell_type": "code",
   "execution_count": 95,
   "id": "6af74487-b558-40f0-b202-034774d9d747",
   "metadata": {},
   "outputs": [
    {
     "name": "stdout",
     "output_type": "stream",
     "text": [
      "{56, 89, 4, 70}\n",
      "{1, 4, 70, 23}\n",
      "{1, 23, 56, 89}\n",
      "{1, 4, 70, 23}\n"
     ]
    }
   ],
   "source": [
    "t = {56,89,70,4}\n",
    "h = {4,70,23,1}\n",
    "print(t)\n",
    "print(h)\n",
    "t.symmetric_difference_update(h)\n",
    "print(t)\n",
    "print(h)"
   ]
  },
  {
   "cell_type": "code",
   "execution_count": 96,
   "id": "e68fd565-c163-46fd-887f-fa83dccda232",
   "metadata": {},
   "outputs": [
    {
     "name": "stdout",
     "output_type": "stream",
     "text": [
      "{99, 78, 6}\n"
     ]
    },
    {
     "ename": "TypeError",
     "evalue": "'int' object is not iterable",
     "output_type": "error",
     "traceback": [
      "\u001b[1;31m---------------------------------------------------------------------------\u001b[0m",
      "\u001b[1;31mTypeError\u001b[0m                                 Traceback (most recent call last)",
      "Cell \u001b[1;32mIn[96], line 3\u001b[0m\n\u001b[0;32m      1\u001b[0m g \u001b[38;5;241m=\u001b[39m {\u001b[38;5;241m78\u001b[39m,\u001b[38;5;241m99\u001b[39m,\u001b[38;5;241m6\u001b[39m}\n\u001b[0;32m      2\u001b[0m \u001b[38;5;28mprint\u001b[39m(g)\n\u001b[1;32m----> 3\u001b[0m \u001b[43mg\u001b[49m\u001b[38;5;241;43m.\u001b[39;49m\u001b[43mupdate\u001b[49m\u001b[43m(\u001b[49m\u001b[38;5;241;43m5\u001b[39;49m\u001b[43m)\u001b[49m\n\u001b[0;32m      4\u001b[0m \u001b[38;5;28mprint\u001b[39m(g)\n",
      "\u001b[1;31mTypeError\u001b[0m: 'int' object is not iterable"
     ]
    }
   ],
   "source": [
    "g = {78,99,6}\n",
    "print(g)\n",
    "g.update(5)\n",
    "print(g)"
   ]
  },
  {
   "cell_type": "code",
   "execution_count": 97,
   "id": "83bc383f-503e-4250-8088-a1baeb3110b1",
   "metadata": {},
   "outputs": [
    {
     "name": "stdout",
     "output_type": "stream",
     "text": [
      "{99, 78, 6}\n",
      "{34, 99, 4, 6, 7, 8, 78}\n"
     ]
    }
   ],
   "source": [
    "print(g)\n",
    "g.update({4,7,8,34})\n",
    "print(g)"
   ]
  },
  {
   "cell_type": "code",
   "execution_count": 98,
   "id": "51822610-2acc-462d-8499-e7c94dff32e8",
   "metadata": {},
   "outputs": [
    {
     "name": "stdout",
     "output_type": "stream",
     "text": [
      "{34, 99, 4, 6, 7, 8, 78}\n",
      "{2, 67, 4, 6, 7, 8, 78, 34, 99, 43, 56}\n"
     ]
    }
   ],
   "source": [
    "print(g)\n",
    "g.update([43,67,2,56])\n",
    "print(g)"
   ]
  },
  {
   "cell_type": "code",
   "execution_count": 99,
   "id": "c1243648-412a-4225-95ee-4a284cf1b0a9",
   "metadata": {},
   "outputs": [
    {
     "name": "stdout",
     "output_type": "stream",
     "text": [
      "{} <class 'dict'>\n",
      "{} <class 'dict'>\n"
     ]
    }
   ],
   "source": [
    "w = {}\n",
    "c = dict()\n",
    "print(w,type(w))\n",
    "print(c,type(c))"
   ]
  },
  {
   "cell_type": "code",
   "execution_count": 100,
   "id": "22246b70-6742-4d33-af9d-db68411ed643",
   "metadata": {},
   "outputs": [
    {
     "name": "stdout",
     "output_type": "stream",
     "text": [
      "{'name': 'Ramu', 'age': 45, 'gender': 'Male'}\n"
     ]
    }
   ],
   "source": [
    "z = {\"name\":\"Ramu\",\"age\":45,\"gender\":\"Male\"}\n",
    "print(z)"
   ]
  },
  {
   "cell_type": "code",
   "execution_count": 102,
   "id": "2ca409fe-914b-4fa1-8641-e18eda74933f",
   "metadata": {},
   "outputs": [
    {
     "ename": "KeyError",
     "evalue": "0",
     "output_type": "error",
     "traceback": [
      "\u001b[1;31m---------------------------------------------------------------------------\u001b[0m",
      "\u001b[1;31mKeyError\u001b[0m                                  Traceback (most recent call last)",
      "Cell \u001b[1;32mIn[102], line 2\u001b[0m\n\u001b[0;32m      1\u001b[0m \u001b[38;5;28;01mfor\u001b[39;00m i \u001b[38;5;129;01min\u001b[39;00m \u001b[38;5;28mrange\u001b[39m(\u001b[38;5;28mlen\u001b[39m(z)):\n\u001b[1;32m----> 2\u001b[0m     \u001b[38;5;28mprint\u001b[39m(\u001b[43mz\u001b[49m\u001b[43m[\u001b[49m\u001b[43mi\u001b[49m\u001b[43m]\u001b[49m,\u001b[38;5;28mtype\u001b[39m(z[i]))\n",
      "\u001b[1;31mKeyError\u001b[0m: 0"
     ]
    }
   ],
   "source": [
    "for i in range(len(z)):\n",
    "    print(z[i],type(z[i]))"
   ]
  },
  {
   "cell_type": "code",
   "execution_count": 105,
   "id": "6909b791-1fd8-4a62-927d-4537bb59e754",
   "metadata": {},
   "outputs": [
    {
     "name": "stdout",
     "output_type": "stream",
     "text": [
      "name => <class 'str'>, Ramu => <class 'str'>\n",
      "age => <class 'str'>, 45 => <class 'int'>\n",
      "gender => <class 'str'>, Male => <class 'str'>\n"
     ]
    }
   ],
   "source": [
    "for j in z:\n",
    "    print(f\"{j} => {type(j)}, {z[j]} => {type(z[j])}\")"
   ]
  },
  {
   "cell_type": "code",
   "execution_count": 108,
   "id": "e13e3a19-4a74-4fc4-b368-9664d41df6b0",
   "metadata": {},
   "outputs": [
    {
     "ename": "ValueError",
     "evalue": "too many values to unpack (expected 2)",
     "output_type": "error",
     "traceback": [
      "\u001b[1;31m---------------------------------------------------------------------------\u001b[0m",
      "\u001b[1;31mValueError\u001b[0m                                Traceback (most recent call last)",
      "Cell \u001b[1;32mIn[108], line 1\u001b[0m\n\u001b[1;32m----> 1\u001b[0m \u001b[38;5;28;01mfor\u001b[39;00m i,j \u001b[38;5;129;01min\u001b[39;00m z:\n\u001b[0;32m      2\u001b[0m     \u001b[38;5;28mprint\u001b[39m(j)\n",
      "\u001b[1;31mValueError\u001b[0m: too many values to unpack (expected 2)"
     ]
    }
   ],
   "source": [
    "for i,j in z:\n",
    "    print(j)"
   ]
  },
  {
   "cell_type": "code",
   "execution_count": 109,
   "id": "47ab5737-2b59-4c5f-a59b-d75ae2efd2b8",
   "metadata": {},
   "outputs": [
    {
     "name": "stdout",
     "output_type": "stream",
     "text": [
      "['__class__', '__class_getitem__', '__contains__', '__delattr__', '__delitem__', '__dir__', '__doc__', '__eq__', '__format__', '__ge__', '__getattribute__', '__getitem__', '__gt__', '__hash__', '__init__', '__init_subclass__', '__ior__', '__iter__', '__le__', '__len__', '__lt__', '__ne__', '__new__', '__or__', '__reduce__', '__reduce_ex__', '__repr__', '__reversed__', '__ror__', '__setattr__', '__setitem__', '__sizeof__', '__str__', '__subclasshook__', 'clear', 'copy', 'fromkeys', 'get', 'items', 'keys', 'pop', 'popitem', 'setdefault', 'update', 'values']\n"
     ]
    }
   ],
   "source": [
    "print(dir(dict))"
   ]
  },
  {
   "cell_type": "code",
   "execution_count": 111,
   "id": "da1b5acd-44f5-4923-bf22-e87ffd9f2f56",
   "metadata": {},
   "outputs": [
    {
     "name": "stdout",
     "output_type": "stream",
     "text": [
      "{'name': 'Prasanna', 'branch': 'CSE', 'Year': '2'}\n",
      "dict_keys(['name', 'branch', 'Year'])\n",
      "dict_values(['Prasanna', 'CSE', '2'])\n",
      "dict_items([('name', 'Prasanna'), ('branch', 'CSE'), ('Year', '2')])\n"
     ]
    }
   ],
   "source": [
    "w = {\"name\":\"Prasanna\",\"branch\":\"CSE\",\"Year\":\"2\"}\n",
    "print(w)\n",
    "print(w.keys())\n",
    "print(w.values())\n",
    "print(w.items())"
   ]
  },
  {
   "cell_type": "code",
   "execution_count": 112,
   "id": "24d91375-eaa9-4b4a-b0f9-d7ef73a6b952",
   "metadata": {},
   "outputs": [
    {
     "name": "stdout",
     "output_type": "stream",
     "text": [
      "('name', 'Prasanna') <class 'tuple'>\n",
      "('branch', 'CSE') <class 'tuple'>\n",
      "('Year', '2') <class 'tuple'>\n"
     ]
    }
   ],
   "source": [
    "for i in w.items():\n",
    "    print(i,type(i))"
   ]
  },
  {
   "cell_type": "code",
   "execution_count": 113,
   "id": "92705778-ee8c-4c9c-a84a-3b3ea856342e",
   "metadata": {},
   "outputs": [
    {
     "name": "stdout",
     "output_type": "stream",
     "text": [
      "name Prasanna <class 'str'> <class 'str'>\n",
      "branch CSE <class 'str'> <class 'str'>\n",
      "Year 2 <class 'str'> <class 'str'>\n"
     ]
    }
   ],
   "source": [
    "for i,j in w.items():\n",
    "    print(i,j,type(i),type(j))"
   ]
  },
  {
   "cell_type": "code",
   "execution_count": 114,
   "id": "0ea086c1-3180-40b0-896b-45fe937d0607",
   "metadata": {},
   "outputs": [
    {
     "name": "stdout",
     "output_type": "stream",
     "text": [
      "{'name': 'Prasanna', 'branch': 'CSE', 'Year': '2'}\n",
      "2\n",
      "CSE\n"
     ]
    }
   ],
   "source": [
    "print(w)\n",
    "print(w['Year'])\n",
    "print(w.get('branch'))"
   ]
  },
  {
   "cell_type": "code",
   "execution_count": 115,
   "id": "2d42a7ac-df30-4a33-9dfa-e70e4153825f",
   "metadata": {},
   "outputs": [
    {
     "name": "stdout",
     "output_type": "stream",
     "text": [
      "{'name': 'Prasanna', 'branch': 'CSE', 'Year': '2'}\n"
     ]
    },
    {
     "ename": "TypeError",
     "evalue": "pop expected at least 1 argument, got 0",
     "output_type": "error",
     "traceback": [
      "\u001b[1;31m---------------------------------------------------------------------------\u001b[0m",
      "\u001b[1;31mTypeError\u001b[0m                                 Traceback (most recent call last)",
      "Cell \u001b[1;32mIn[115], line 2\u001b[0m\n\u001b[0;32m      1\u001b[0m \u001b[38;5;28mprint\u001b[39m(w)\n\u001b[1;32m----> 2\u001b[0m \u001b[43mw\u001b[49m\u001b[38;5;241;43m.\u001b[39;49m\u001b[43mpop\u001b[49m\u001b[43m(\u001b[49m\u001b[43m)\u001b[49m\n\u001b[0;32m      3\u001b[0m \u001b[38;5;28mprint\u001b[39m(w)\n",
      "\u001b[1;31mTypeError\u001b[0m: pop expected at least 1 argument, got 0"
     ]
    }
   ],
   "source": [
    "print(w)\n",
    "w.pop()\n",
    "print(w)"
   ]
  },
  {
   "cell_type": "code",
   "execution_count": 116,
   "id": "7b62aacf-a7cc-4d9c-a43a-3596f6c1d85f",
   "metadata": {},
   "outputs": [
    {
     "name": "stdout",
     "output_type": "stream",
     "text": [
      "{'name': 'Prasanna', 'branch': 'CSE', 'Year': '2'}\n",
      "{'name': 'Prasanna', 'Year': '2'}\n"
     ]
    }
   ],
   "source": [
    "print(w)\n",
    "w.pop('branch')\n",
    "print(w)"
   ]
  },
  {
   "cell_type": "code",
   "execution_count": 117,
   "id": "0ddf7ae8-d811-4dfc-b440-bc92225fd72c",
   "metadata": {},
   "outputs": [
    {
     "name": "stdout",
     "output_type": "stream",
     "text": [
      "{'name': 'Prasanna', 'Year': '2'}\n"
     ]
    },
    {
     "ename": "KeyError",
     "evalue": "'gender'",
     "output_type": "error",
     "traceback": [
      "\u001b[1;31m---------------------------------------------------------------------------\u001b[0m",
      "\u001b[1;31mKeyError\u001b[0m                                  Traceback (most recent call last)",
      "Cell \u001b[1;32mIn[117], line 2\u001b[0m\n\u001b[0;32m      1\u001b[0m \u001b[38;5;28mprint\u001b[39m(w)\n\u001b[1;32m----> 2\u001b[0m \u001b[43mw\u001b[49m\u001b[38;5;241;43m.\u001b[39;49m\u001b[43mpop\u001b[49m\u001b[43m(\u001b[49m\u001b[38;5;124;43m'\u001b[39;49m\u001b[38;5;124;43mgender\u001b[39;49m\u001b[38;5;124;43m'\u001b[39;49m\u001b[43m)\u001b[49m\n\u001b[0;32m      3\u001b[0m \u001b[38;5;28mprint\u001b[39m(w)\n",
      "\u001b[1;31mKeyError\u001b[0m: 'gender'"
     ]
    }
   ],
   "source": [
    "print(w)\n",
    "w.pop('gender')\n",
    "print(w)"
   ]
  },
  {
   "cell_type": "code",
   "execution_count": 118,
   "id": "54af1a70-e4cb-4857-90eb-b53416da3052",
   "metadata": {},
   "outputs": [
    {
     "name": "stdout",
     "output_type": "stream",
     "text": [
      "{'name': 'Prasanna', 'Year': '2'}\n",
      "{'name': 'Prasanna'}\n"
     ]
    }
   ],
   "source": [
    "print(w)\n",
    "w.popitem()\n",
    "print(w)"
   ]
  },
  {
   "cell_type": "code",
   "execution_count": 119,
   "id": "977bd56f-bf06-4083-af6f-5e9a796d36ba",
   "metadata": {},
   "outputs": [
    {
     "name": "stdout",
     "output_type": "stream",
     "text": [
      "{'name': 'Prasanna'}\n",
      "{'name': 'Prasanna', 'college': 'KEC'}\n"
     ]
    }
   ],
   "source": [
    "print(w)\n",
    "w['college'] = \"KEC\"\n",
    "print(w)"
   ]
  },
  {
   "cell_type": "code",
   "execution_count": 120,
   "id": "8bb1941a-f0bf-4db3-a4b8-c72a503915e2",
   "metadata": {},
   "outputs": [
    {
     "name": "stdout",
     "output_type": "stream",
     "text": [
      "{'name': 'Prasanna', 'college': 'KEC'}\n"
     ]
    },
    {
     "ename": "TypeError",
     "evalue": "dict.popitem() takes no arguments (1 given)",
     "output_type": "error",
     "traceback": [
      "\u001b[1;31m---------------------------------------------------------------------------\u001b[0m",
      "\u001b[1;31mTypeError\u001b[0m                                 Traceback (most recent call last)",
      "Cell \u001b[1;32mIn[120], line 2\u001b[0m\n\u001b[0;32m      1\u001b[0m \u001b[38;5;28mprint\u001b[39m(w)\n\u001b[1;32m----> 2\u001b[0m \u001b[43mw\u001b[49m\u001b[38;5;241;43m.\u001b[39;49m\u001b[43mpopitem\u001b[49m\u001b[43m(\u001b[49m\u001b[38;5;124;43m'\u001b[39;49m\u001b[38;5;124;43mname\u001b[39;49m\u001b[38;5;124;43m'\u001b[39;49m\u001b[43m)\u001b[49m\n\u001b[0;32m      3\u001b[0m \u001b[38;5;28mprint\u001b[39m(w)\n",
      "\u001b[1;31mTypeError\u001b[0m: dict.popitem() takes no arguments (1 given)"
     ]
    }
   ],
   "source": [
    "print(w)\n",
    "w.popitem('name')\n",
    "print(w)"
   ]
  },
  {
   "cell_type": "code",
   "execution_count": 121,
   "id": "e915c8e3-91a7-4105-86f3-45efd6582ce8",
   "metadata": {},
   "outputs": [
    {
     "name": "stdout",
     "output_type": "stream",
     "text": [
      "{'name': 'Prasanna', 'college': 'KEC'}\n",
      "{'name': 'Prasanna', 'college': 'KEC', 'marks': None}\n"
     ]
    }
   ],
   "source": [
    "print(w)\n",
    "w.setdefault('marks')\n",
    "print(w)"
   ]
  },
  {
   "cell_type": "code",
   "execution_count": 122,
   "id": "90d7b8b6-5b4a-49cb-9cf2-b963043f56da",
   "metadata": {},
   "outputs": [
    {
     "name": "stdout",
     "output_type": "stream",
     "text": [
      "{'name': 'Prasanna', 'college': 'KEC', 'marks': None}\n",
      "{'name': 'Prasanna', 'college': 'KEC', 'marks': 80}\n"
     ]
    }
   ],
   "source": [
    "print(w)\n",
    "w.update({'marks':80})\n",
    "print(w)"
   ]
  },
  {
   "cell_type": "code",
   "execution_count": 123,
   "id": "68e3719c-3fdc-4019-8651-6462f76ecf55",
   "metadata": {},
   "outputs": [
    {
     "name": "stdout",
     "output_type": "stream",
     "text": [
      "{'name': 'Prasanna', 'college': 'KEC', 'marks': 80}\n",
      "{'name': 'Prasanna', 'college': 'KEC', 'marks': 95}\n"
     ]
    }
   ],
   "source": [
    "print(w)\n",
    "w['marks'] = 95\n",
    "print(w)"
   ]
  },
  {
   "cell_type": "code",
   "execution_count": 132,
   "id": "c8e1bfbe-c303-4b93-80bb-35c4e8d86f6d",
   "metadata": {},
   "outputs": [
    {
     "name": "stdout",
     "output_type": "stream",
     "text": [
      "{'a': 'raju', 'b': 'raju'}\n"
     ]
    }
   ],
   "source": [
    "a = [\"a\",\"b\"]\n",
    "c = \"raju\"\n",
    "z = dict.fromkeys(a,c)\n",
    "print(z)"
   ]
  },
  {
   "cell_type": "code",
   "execution_count": 133,
   "id": "2e91f5fc-b4d1-4d46-a836-0c091b9b35a6",
   "metadata": {},
   "outputs": [
    {
     "name": "stdout",
     "output_type": "stream",
     "text": [
      "ramesh is good at teaching <class 'str'>\n"
     ]
    }
   ],
   "source": [
    "r = \"ramesh is good at teaching\"\n",
    "print(r,type(r))"
   ]
  },
  {
   "cell_type": "code",
   "execution_count": 134,
   "id": "6d551c68-3808-4dd4-85f6-df5a08235ba5",
   "metadata": {},
   "outputs": [
    {
     "name": "stdout",
     "output_type": "stream",
     "text": [
      "['__add__', '__class__', '__contains__', '__delattr__', '__dir__', '__doc__', '__eq__', '__format__', '__ge__', '__getattribute__', '__getitem__', '__getnewargs__', '__gt__', '__hash__', '__init__', '__init_subclass__', '__iter__', '__le__', '__len__', '__lt__', '__mod__', '__mul__', '__ne__', '__new__', '__reduce__', '__reduce_ex__', '__repr__', '__rmod__', '__rmul__', '__setattr__', '__sizeof__', '__str__', '__subclasshook__', 'capitalize', 'casefold', 'center', 'count', 'encode', 'endswith', 'expandtabs', 'find', 'format', 'format_map', 'index', 'isalnum', 'isalpha', 'isascii', 'isdecimal', 'isdigit', 'isidentifier', 'islower', 'isnumeric', 'isprintable', 'isspace', 'istitle', 'isupper', 'join', 'ljust', 'lower', 'lstrip', 'maketrans', 'partition', 'removeprefix', 'removesuffix', 'replace', 'rfind', 'rindex', 'rjust', 'rpartition', 'rsplit', 'rstrip', 'split', 'splitlines', 'startswith', 'strip', 'swapcase', 'title', 'translate', 'upper', 'zfill']\n"
     ]
    }
   ],
   "source": [
    "print(dir(str))"
   ]
  },
  {
   "cell_type": "code",
   "execution_count": 136,
   "id": "4e1bdafb-3e65-4d56-a03f-b4f4984d46c0",
   "metadata": {},
   "outputs": [
    {
     "name": "stdout",
     "output_type": "stream",
     "text": [
      "tilak is at KEC college\n",
      "Tilak is at kec college\n",
      "tilak is at kec college\n",
      "Tilak Is At Kec College\n",
      "TILAK IS AT kec COLLEGE\n",
      "TILAK IS AT KEC COLLEGE\n",
      "tilak is at kec college\n"
     ]
    }
   ],
   "source": [
    "k = \"tilak is at KEC college\"\n",
    "print(k)\n",
    "print(k.capitalize())\n",
    "print(k.casefold())\n",
    "print(k.title())\n",
    "print(k.swapcase())\n",
    "print(k.upper())\n",
    "print(k.lower())"
   ]
  },
  {
   "cell_type": "code",
   "execution_count": 138,
   "id": "f37cdcf5-e22d-4bcb-94a9-c252a8c44089",
   "metadata": {},
   "outputs": [
    {
     "name": "stdout",
     "output_type": "stream",
     "text": [
      "Sample example\n",
      "Testing with some example\n",
      "Sample example\n",
      "Testing with some example \n",
      "000000000000Sample example    \n",
      "0   Testing with some example \n"
     ]
    }
   ],
   "source": [
    "h = \"Sample example    \"\n",
    "k = \"   Testing with some example \"\n",
    "print(h.strip())\n",
    "print(k.strip())\n",
    "print(h.rstrip())\n",
    "print(k.lstrip())\n",
    "print(h.zfill(30))\n",
    "print(k.zfill(30))"
   ]
  },
  {
   "cell_type": "code",
   "execution_count": 139,
   "id": "9ca3481f-afe3-42ae-856a-53820701e571",
   "metadata": {},
   "outputs": [
    {
     "name": "stdout",
     "output_type": "stream",
     "text": [
      "Demo Page                \n",
      "               First Example  \n"
     ]
    }
   ],
   "source": [
    "b = \"Demo Page   \"\n",
    "n = \"   First Example  \"\n",
    "print(b.ljust(25))\n",
    "print(n.rjust(30))"
   ]
  },
  {
   "cell_type": "code",
   "execution_count": 140,
   "id": "a54dbbc3-0b1e-4051-8f39-2b36065e12b2",
   "metadata": {},
   "outputs": [
    {
     "name": "stdout",
     "output_type": "stream",
     "text": [
      "Name           |     Age|\n"
     ]
    }
   ],
   "source": [
    "print(\"Name\".ljust(15)+\"|\"+\"Age\".rjust(8)+\"|\")"
   ]
  },
  {
   "cell_type": "code",
   "execution_count": 142,
   "id": "819c6ad8-461d-4e65-9285-1b7a14fc126e",
   "metadata": {},
   "outputs": [
    {
     "name": "stdout",
     "output_type": "stream",
     "text": [
      "['Demo', 'Page', 'here']\n",
      "['Demo Page here ']\n",
      "['D', 'mo Pag', ' h', 'r', ' ']\n"
     ]
    }
   ],
   "source": [
    "d = \"Demo Page here \"\n",
    "print(d.split())\n",
    "print(d.splitlines())\n",
    "print(d.split(\"e\"))"
   ]
  },
  {
   "cell_type": "code",
   "execution_count": 145,
   "id": "0e539915-990d-4104-9a7a-0e5a3278592e",
   "metadata": {},
   "outputs": [
    {
     "name": "stdin",
     "output_type": "stream",
     "text": [
      " 2,5,8,96,3\n"
     ]
    },
    {
     "name": "stdout",
     "output_type": "stream",
     "text": [
      "['2', '5', '8', '96', '3'] <class 'list'>\n",
      "[2, 5, 8, 96, 3]\n"
     ]
    }
   ],
   "source": [
    "# 12 56 89\n",
    "# 2,5,8,96,3\n",
    "g = input().split(\",\")\n",
    "n = []\n",
    "print(g,type(g))\n",
    "for i in g:\n",
    "    n.append(int(i))\n",
    "print(n)"
   ]
  },
  {
   "cell_type": "code",
   "execution_count": 149,
   "id": "0e614bb7-60f4-490c-97a1-577a288c5349",
   "metadata": {},
   "outputs": [
    {
     "name": "stdout",
     "output_type": "stream",
     "text": [
      "1\n",
      "33\n"
     ]
    }
   ],
   "source": [
    "v = \" example for python data structures\"\n",
    "print(v.index('e'))\n",
    "print(v.rindex('e'))"
   ]
  },
  {
   "cell_type": "code",
   "execution_count": 150,
   "id": "0eedcf12-e848-45a3-8b55-5473969fb249",
   "metadata": {},
   "outputs": [
    {
     "ename": "ValueError",
     "evalue": "substring not found",
     "output_type": "error",
     "traceback": [
      "\u001b[1;31m---------------------------------------------------------------------------\u001b[0m",
      "\u001b[1;31mValueError\u001b[0m                                Traceback (most recent call last)",
      "Cell \u001b[1;32mIn[150], line 1\u001b[0m\n\u001b[1;32m----> 1\u001b[0m \u001b[38;5;28mprint\u001b[39m(\u001b[43mv\u001b[49m\u001b[38;5;241;43m.\u001b[39;49m\u001b[43mindex\u001b[49m\u001b[43m(\u001b[49m\u001b[38;5;124;43m'\u001b[39;49m\u001b[38;5;124;43mz\u001b[39;49m\u001b[38;5;124;43m'\u001b[39;49m\u001b[43m)\u001b[49m)\n",
      "\u001b[1;31mValueError\u001b[0m: substring not found"
     ]
    }
   ],
   "source": [
    "print(v.index('z'))"
   ]
  },
  {
   "cell_type": "code",
   "execution_count": 151,
   "id": "bdaac845-d858-49af-85de-627a26d02c85",
   "metadata": {},
   "outputs": [
    {
     "ename": "ValueError",
     "evalue": "substring not found",
     "output_type": "error",
     "traceback": [
      "\u001b[1;31m---------------------------------------------------------------------------\u001b[0m",
      "\u001b[1;31mValueError\u001b[0m                                Traceback (most recent call last)",
      "Cell \u001b[1;32mIn[151], line 1\u001b[0m\n\u001b[1;32m----> 1\u001b[0m \u001b[38;5;28mprint\u001b[39m(\u001b[43mv\u001b[49m\u001b[38;5;241;43m.\u001b[39;49m\u001b[43mrindex\u001b[49m\u001b[43m(\u001b[49m\u001b[38;5;124;43m'\u001b[39;49m\u001b[38;5;124;43mz\u001b[39;49m\u001b[38;5;124;43m'\u001b[39;49m\u001b[43m)\u001b[49m)\n",
      "\u001b[1;31mValueError\u001b[0m: substring not found"
     ]
    }
   ],
   "source": [
    "print(v.rindex('z'))"
   ]
  },
  {
   "cell_type": "code",
   "execution_count": 153,
   "id": "3a9f5117-f721-4a59-8461-56c1e8dae4fb",
   "metadata": {},
   "outputs": [
    {
     "name": "stdout",
     "output_type": "stream",
     "text": [
      "1\n",
      "33\n"
     ]
    }
   ],
   "source": [
    "print(v.find('e'))\n",
    "print(v.rfind('e'))"
   ]
  },
  {
   "cell_type": "code",
   "execution_count": 154,
   "id": "d990e924-0783-47e3-ae7d-2c9a1cdc6d6b",
   "metadata": {},
   "outputs": [
    {
     "name": "stdout",
     "output_type": "stream",
     "text": [
      "-1\n"
     ]
    }
   ],
   "source": [
    "print(v.find('z'))"
   ]
  },
  {
   "cell_type": "code",
   "execution_count": 155,
   "id": "2b36fd1a-85f4-429e-b47d-cc7416686980",
   "metadata": {},
   "outputs": [
    {
     "name": "stdout",
     "output_type": "stream",
     "text": [
      "-1\n"
     ]
    }
   ],
   "source": [
    "print(v.rfind('z'))"
   ]
  },
  {
   "cell_type": "code",
   "execution_count": 157,
   "id": "9aaa96e9-fb6b-472d-afb2-bb95b82741bc",
   "metadata": {},
   "outputs": [
    {
     "name": "stdout",
     "output_type": "stream",
     "text": [
      "   ramesh is at home     \n"
     ]
    }
   ],
   "source": [
    "d = \"ramesh is at home   \"\n",
    "print(d.center(25))"
   ]
  },
  {
   "cell_type": "code",
   "execution_count": 168,
   "id": "f0291814-06b4-4f11-983a-3209a1c01155",
   "metadata": {},
   "outputs": [
    {
     "name": "stdout",
     "output_type": "stream",
     "text": [
      "Ramesh-is-at-college\n",
      "['Ramesh', 'is', 'at', 'college']\n"
     ]
    }
   ],
   "source": [
    "d = [\"Ramesh\", \"is\", \"at\", \"college\"]\n",
    "f = \"-\".join(d)\n",
    "print(f)\n",
    "g = f.split(\"-\")\n",
    "print(g)"
   ]
  },
  {
   "cell_type": "code",
   "execution_count": 175,
   "id": "bc11ee3c-735f-4743-824d-7a80f8f2b91a",
   "metadata": {},
   "outputs": [
    {
     "name": "stdin",
     "output_type": "stream",
     "text": [
      " 45 6 8 7 20 45\n"
     ]
    },
    {
     "name": "stdout",
     "output_type": "stream",
     "text": [
      "Even numbers in a list is:  6 8 20 "
     ]
    }
   ],
   "source": [
    "def ev(d):\n",
    "    r = []\n",
    "    for j in d:\n",
    "        if j%2==0:\n",
    "            r.append(j)\n",
    "    return r\n",
    "\n",
    "h = input().split()\n",
    "z = []\n",
    "for i in h:\n",
    "    z.append(int(i))\n",
    "print(\"Even numbers in a list is: \",end=\" \")\n",
    "for k in ev(z):\n",
    "    print(k,end=\" \")"
   ]
  },
  {
   "cell_type": "code",
   "execution_count": 177,
   "id": "2d236c7d-6a72-45c6-aad5-10d6f31a0f65",
   "metadata": {},
   "outputs": [
    {
     "name": "stdin",
     "output_type": "stream",
     "text": [
      "Enter employee name:  tarun\n",
      "Enter employee Id:  RT67\n"
     ]
    },
    {
     "name": "stdout",
     "output_type": "stream",
     "text": [
      "Company Name: Wipro\n",
      "Entered Employee Id is: RT67\n",
      "Entered Name is: tarun\n"
     ]
    }
   ],
   "source": [
    "def employee(na,ed,cmp=\"Wipro\"):\n",
    "    print(f\"Company Name: {cmp}\")\n",
    "    print(f\"Entered Employee Id is: {ed}\")\n",
    "    print(f\"Entered Name is: {na}\")\n",
    "    return\n",
    "\n",
    "n = input(\"Enter employee name: \")\n",
    "k = input(\"Enter employee Id: \")\n",
    "employee(n,k)"
   ]
  },
  {
   "cell_type": "code",
   "execution_count": 178,
   "id": "5a3a2620-a037-4f81-8b86-09f800ee8972",
   "metadata": {},
   "outputs": [
    {
     "ename": "SyntaxError",
     "evalue": "non-default argument follows default argument (3971116864.py, line 1)",
     "output_type": "error",
     "traceback": [
      "\u001b[1;36m  Cell \u001b[1;32mIn[178], line 1\u001b[1;36m\u001b[0m\n\u001b[1;33m    def employee(na,ed=\"SD34\",cmp):\u001b[0m\n\u001b[1;37m                                 ^\u001b[0m\n\u001b[1;31mSyntaxError\u001b[0m\u001b[1;31m:\u001b[0m non-default argument follows default argument\n"
     ]
    }
   ],
   "source": [
    "def employee(na,ed=\"SD34\",cmp):\n",
    "    print(f\"Company Name: {cmp}\")\n",
    "    print(f\"Entered Employee Id is: {ed}\")\n",
    "    print(f\"Entered Name is: {na}\")\n",
    "    return\n",
    "\n",
    "n = input(\"Enter employee name: \")\n",
    "k = input(\"Enter employee Id: \")\n",
    "employee(n,k)"
   ]
  },
  {
   "cell_type": "code",
   "execution_count": 179,
   "id": "3332478e-8dbc-435c-a996-d9a21a714036",
   "metadata": {},
   "outputs": [
    {
     "name": "stdin",
     "output_type": "stream",
     "text": [
      "Enter employee name:  jagadeesh\n",
      "Enter employee Id:  TY34\n"
     ]
    },
    {
     "name": "stdout",
     "output_type": "stream",
     "text": [
      "Company Name: EY\n",
      "Entered Employee Id is: TY34\n",
      "Entered Name is: jagadeesh\n"
     ]
    }
   ],
   "source": [
    "def employee(na,ed=\"SD34\",cmp=\"EY\"):\n",
    "    print(f\"Company Name: {cmp}\")\n",
    "    print(f\"Entered Employee Id is: {ed}\")\n",
    "    print(f\"Entered Name is: {na}\")\n",
    "    return\n",
    "\n",
    "n = input(\"Enter employee name: \")\n",
    "k = input(\"Enter employee Id: \")\n",
    "employee(n,k)"
   ]
  },
  {
   "cell_type": "code",
   "execution_count": 180,
   "id": "3e46c3ae-026d-402d-96c3-75677d314d69",
   "metadata": {},
   "outputs": [
    {
     "name": "stdin",
     "output_type": "stream",
     "text": [
      "Enter employee name:  Kishore\n"
     ]
    },
    {
     "name": "stdout",
     "output_type": "stream",
     "text": [
      "Company Name: EY\n",
      "Entered Employee Id is: SD34\n",
      "Entered Name is: Kishore\n"
     ]
    }
   ],
   "source": [
    "def employee(na,ed=\"SD34\",cmp=\"EY\"):\n",
    "    print(f\"Company Name: {cmp}\")\n",
    "    print(f\"Entered Employee Id is: {ed}\")\n",
    "    print(f\"Entered Name is: {na}\")\n",
    "    return\n",
    "\n",
    "n = input(\"Enter employee name: \")\n",
    "employee(n)"
   ]
  },
  {
   "cell_type": "code",
   "execution_count": 181,
   "id": "b44081d0-43aa-4164-a8db-e87d3be40fec",
   "metadata": {},
   "outputs": [
    {
     "name": "stdout",
     "output_type": "stream",
     "text": [
      "Entered name is: Naresh\n",
      "Entered age is: 25\n"
     ]
    }
   ],
   "source": [
    "def student(n,a):\n",
    "    print(f\"Entered name is: {n}\")\n",
    "    print(f\"Entered age is: {a}\")\n",
    "    return\n",
    "\n",
    "student(\"Naresh\",25)"
   ]
  },
  {
   "cell_type": "code",
   "execution_count": 182,
   "id": "e5eb9b2e-d90a-46c1-ae67-1ca481d2a475",
   "metadata": {},
   "outputs": [
    {
     "ename": "TypeError",
     "evalue": "student() takes 2 positional arguments but 3 were given",
     "output_type": "error",
     "traceback": [
      "\u001b[1;31m---------------------------------------------------------------------------\u001b[0m",
      "\u001b[1;31mTypeError\u001b[0m                                 Traceback (most recent call last)",
      "Cell \u001b[1;32mIn[182], line 6\u001b[0m\n\u001b[0;32m      3\u001b[0m     \u001b[38;5;28mprint\u001b[39m(\u001b[38;5;124mf\u001b[39m\u001b[38;5;124m\"\u001b[39m\u001b[38;5;124mEntered age is: \u001b[39m\u001b[38;5;132;01m{\u001b[39;00ma\u001b[38;5;132;01m}\u001b[39;00m\u001b[38;5;124m\"\u001b[39m)\n\u001b[0;32m      4\u001b[0m     \u001b[38;5;28;01mreturn\u001b[39;00m\n\u001b[1;32m----> 6\u001b[0m \u001b[43mstudent\u001b[49m\u001b[43m(\u001b[49m\u001b[38;5;124;43m\"\u001b[39;49m\u001b[38;5;124;43mNaresh\u001b[39;49m\u001b[38;5;124;43m\"\u001b[39;49m\u001b[43m,\u001b[49m\u001b[38;5;241;43m25\u001b[39;49m\u001b[43m,\u001b[49m\u001b[38;5;124;43m\"\u001b[39;49m\u001b[38;5;124;43mMale\u001b[39;49m\u001b[38;5;124;43m\"\u001b[39;49m\u001b[43m)\u001b[49m\n",
      "\u001b[1;31mTypeError\u001b[0m: student() takes 2 positional arguments but 3 were given"
     ]
    }
   ],
   "source": [
    "def student(n,a):\n",
    "    print(f\"Entered name is: {n}\")\n",
    "    print(f\"Entered age is: {a}\")\n",
    "    return\n",
    "\n",
    "student(\"Naresh\",25,\"Male\")"
   ]
  },
  {
   "cell_type": "code",
   "execution_count": 183,
   "id": "3cd6f33f-622f-4ac4-bccd-1a074cc44fda",
   "metadata": {},
   "outputs": [
    {
     "ename": "TypeError",
     "evalue": "student() missing 1 required positional argument: 'c'",
     "output_type": "error",
     "traceback": [
      "\u001b[1;31m---------------------------------------------------------------------------\u001b[0m",
      "\u001b[1;31mTypeError\u001b[0m                                 Traceback (most recent call last)",
      "Cell \u001b[1;32mIn[183], line 8\u001b[0m\n\u001b[0;32m      5\u001b[0m     \u001b[38;5;28mprint\u001b[39m(\u001b[38;5;124mf\u001b[39m\u001b[38;5;124m\"\u001b[39m\u001b[38;5;124mEntered section is: \u001b[39m\u001b[38;5;132;01m{\u001b[39;00mc\u001b[38;5;132;01m}\u001b[39;00m\u001b[38;5;124m\"\u001b[39m)\n\u001b[0;32m      6\u001b[0m     \u001b[38;5;28;01mreturn\u001b[39;00m\n\u001b[1;32m----> 8\u001b[0m \u001b[43mstudent\u001b[49m\u001b[43m(\u001b[49m\u001b[38;5;124;43m\"\u001b[39;49m\u001b[38;5;124;43mNaresh\u001b[39;49m\u001b[38;5;124;43m\"\u001b[39;49m\u001b[43m,\u001b[49m\u001b[38;5;241;43m25\u001b[39;49m\u001b[43m,\u001b[49m\u001b[38;5;124;43m\"\u001b[39;49m\u001b[38;5;124;43mMale\u001b[39;49m\u001b[38;5;124;43m\"\u001b[39;49m\u001b[43m)\u001b[49m\n",
      "\u001b[1;31mTypeError\u001b[0m: student() missing 1 required positional argument: 'c'"
     ]
    }
   ],
   "source": [
    "def student(n,a,g,c):\n",
    "    print(f\"Entered name is: {n}\")\n",
    "    print(f\"Entered age is: {a}\")\n",
    "    print(f\"Entered gender is: {g}\")\n",
    "    print(f\"Entered section is: {c}\")\n",
    "    return\n",
    "\n",
    "student(\"Naresh\",25,\"Male\")"
   ]
  },
  {
   "cell_type": "code",
   "execution_count": 186,
   "id": "c3fc33c0-df7f-475a-af23-a9fa029ad100",
   "metadata": {},
   "outputs": [
    {
     "name": "stdout",
     "output_type": "stream",
     "text": [
      "Entered name is: prasad\n",
      "Entered age is: 12\n",
      "Entered gender is: M\n"
     ]
    }
   ],
   "source": [
    "def emp(b,a,c):\n",
    "    print(f\"Entered name is: {a}\")\n",
    "    print(f\"Entered age is: {b}\")\n",
    "    print(f\"Entered gender is: {c}\")\n",
    "    return\n",
    "\n",
    "emp(a=\"prasad\",c=\"M\",b=12)"
   ]
  },
  {
   "cell_type": "code",
   "execution_count": 189,
   "id": "9166079b-1ce4-4539-b1c3-4799b0436623",
   "metadata": {},
   "outputs": [
    {
     "name": "stdout",
     "output_type": "stream",
     "text": [
      "12 <class 'int'>\n",
      "('raju', 45.01, 'Prasad') <class 'tuple'>\n",
      "{'name': 'Dinesh', 'age': 15} <class 'dict'>\n"
     ]
    }
   ],
   "source": [
    "def dm(n,*y,**s):\n",
    "    print(n,type(n))\n",
    "    print(y,type(y))\n",
    "    print(s,type(s))\n",
    "    return\n",
    "\n",
    "dm(12,\"raju\",45.01,\"Prasad\",name=\"Dinesh\",age=15)"
   ]
  },
  {
   "cell_type": "code",
   "execution_count": 190,
   "id": "f6f54ac6-bfa7-4abc-98e1-8f0c1e6fbd0a",
   "metadata": {},
   "outputs": [
    {
     "ename": "SyntaxError",
     "evalue": "positional argument follows keyword argument (4092037990.py, line 7)",
     "output_type": "error",
     "traceback": [
      "\u001b[1;36m  Cell \u001b[1;32mIn[190], line 7\u001b[1;36m\u001b[0m\n\u001b[1;33m    dm(12,\"raju\",45.01,gender=\"m\",\"Prasad\",name=\"Dinesh\",age=15)\u001b[0m\n\u001b[1;37m                                                               ^\u001b[0m\n\u001b[1;31mSyntaxError\u001b[0m\u001b[1;31m:\u001b[0m positional argument follows keyword argument\n"
     ]
    }
   ],
   "source": [
    "def dm(n,*y,**s):\n",
    "    print(n,type(n))\n",
    "    print(y,type(y))\n",
    "    print(s,type(s))\n",
    "    return\n",
    "\n",
    "dm(12,\"raju\",45.01,gender=\"m\",\"Prasad\",name=\"Dinesh\",age=15)"
   ]
  },
  {
   "cell_type": "code",
   "execution_count": 192,
   "id": "470343a5-14fc-4b2a-9bf1-cbd43b81fbd2",
   "metadata": {},
   "outputs": [
    {
     "ename": "TypeError",
     "evalue": "dm() got an unexpected keyword argument 'name'",
     "output_type": "error",
     "traceback": [
      "\u001b[1;31m---------------------------------------------------------------------------\u001b[0m",
      "\u001b[1;31mTypeError\u001b[0m                                 Traceback (most recent call last)",
      "Cell \u001b[1;32mIn[192], line 6\u001b[0m\n\u001b[0;32m      3\u001b[0m     \u001b[38;5;28mprint\u001b[39m(y,\u001b[38;5;28mtype\u001b[39m(y))\n\u001b[0;32m      4\u001b[0m     \u001b[38;5;28;01mreturn\u001b[39;00m\n\u001b[1;32m----> 6\u001b[0m \u001b[43mdm\u001b[49m\u001b[43m(\u001b[49m\u001b[38;5;241;43m12\u001b[39;49m\u001b[43m,\u001b[49m\u001b[38;5;124;43m\"\u001b[39;49m\u001b[38;5;124;43mraju\u001b[39;49m\u001b[38;5;124;43m\"\u001b[39;49m\u001b[43m,\u001b[49m\u001b[38;5;241;43m45.01\u001b[39;49m\u001b[43m,\u001b[49m\u001b[38;5;124;43m\"\u001b[39;49m\u001b[38;5;124;43mPrasad\u001b[39;49m\u001b[38;5;124;43m\"\u001b[39;49m\u001b[43m,\u001b[49m\u001b[43mname\u001b[49m\u001b[38;5;241;43m=\u001b[39;49m\u001b[38;5;124;43m\"\u001b[39;49m\u001b[38;5;124;43mDinesh\u001b[39;49m\u001b[38;5;124;43m\"\u001b[39;49m\u001b[43m,\u001b[49m\u001b[43mage\u001b[49m\u001b[38;5;241;43m=\u001b[39;49m\u001b[38;5;241;43m15\u001b[39;49m\u001b[43m)\u001b[49m\n",
      "\u001b[1;31mTypeError\u001b[0m: dm() got an unexpected keyword argument 'name'"
     ]
    }
   ],
   "source": [
    "def dm(n,*y):\n",
    "    print(n,type(n))\n",
    "    print(y,type(y))\n",
    "    return\n",
    "\n",
    "dm(12,\"raju\",45.01,\"Prasad\",name=\"Dinesh\",age=15)"
   ]
  },
  {
   "cell_type": "code",
   "execution_count": null,
   "id": "ff97f2af-f27f-4161-90d1-46b0e0679e4b",
   "metadata": {},
   "outputs": [],
   "source": []
  }
 ],
 "metadata": {
  "kernelspec": {
   "display_name": "Python 3 (ipykernel)",
   "language": "python",
   "name": "python3"
  },
  "language_info": {
   "codemirror_mode": {
    "name": "ipython",
    "version": 3
   },
   "file_extension": ".py",
   "mimetype": "text/x-python",
   "name": "python",
   "nbconvert_exporter": "python",
   "pygments_lexer": "ipython3",
   "version": "3.9.6"
  }
 },
 "nbformat": 4,
 "nbformat_minor": 5
}
