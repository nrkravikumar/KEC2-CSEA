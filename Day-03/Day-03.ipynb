{
 "cells": [
  {
   "cell_type": "markdown",
   "id": "71ba6b0b-4440-4824-ba1f-f827c6798885",
   "metadata": {},
   "source": [
    "```\n",
    "Input:\n",
    "    Enter your age: 20\n",
    "Output:\n",
    "    Entered age is 20 and exceeding for 2 years\n",
    "\n",
    "Input:\n",
    "    Enter your age: 16\n",
    "Output:\n",
    "    Entered age is 16 and need to wait for 2 years for vote\n",
    "```"
   ]
  },
  {
   "cell_type": "code",
   "execution_count": 2,
   "id": "8b1f0419-19bd-4ca5-adde-911b2b8f257a",
   "metadata": {},
   "outputs": [
    {
     "name": "stdin",
     "output_type": "stream",
     "text": [
      "Enter your age:  10\n"
     ]
    },
    {
     "name": "stdout",
     "output_type": "stream",
     "text": [
      "Entered age is 10 and need to wait for 8 years for vote\n"
     ]
    }
   ],
   "source": [
    "a = int(input(\"Enter your age: \"))\n",
    "if a>=18:\n",
    "    print(f\"Entered age is {a} and exceeding for {a-18} years\")\n",
    "else:\n",
    "    print(f\"Entered age is {a} and need to wait for {18-a} years for vote\")"
   ]
  },
  {
   "cell_type": "markdown",
   "id": "b4ca4552-3a1f-40b4-8632-7f6694d85c25",
   "metadata": {},
   "source": [
    "```\n",
    "Input-1:\n",
    "-------\n",
    "    45\n",
    "    89.45\n",
    "Output-1:\n",
    "--------\n",
    "    Entered numbers are: 45,89.45\n",
    "    Entered first number is 45 it is Odd number\n",
    "    Entered second number is 89.45 and it is Odd number\n",
    "```"
   ]
  },
  {
   "cell_type": "code",
   "execution_count": 7,
   "id": "bf56162c-0209-40dc-b688-aa40fe04a93e",
   "metadata": {},
   "outputs": [
    {
     "name": "stdin",
     "output_type": "stream",
     "text": [
      " 37\n",
      " 45.9\n"
     ]
    },
    {
     "name": "stdout",
     "output_type": "stream",
     "text": [
      "Entered Numbers are:37,45.9\n",
      "Entered First Number is 37 it is odd\n",
      "Entered Second Number is 45.9 it is odd\n"
     ]
    }
   ],
   "source": [
    "a=int(input())\n",
    "b=float(input())\n",
    "print(f\"Entered Numbers are:{a},{b}\")\n",
    "\n",
    "if(a%2==0):\n",
    "    print(f\"Entered First Number is {a} it is Even\")\n",
    "else:\n",
    "    print(f\"Entered First Number is {a} it is odd\")\n",
    "if(int(b)%2==0):\n",
    "    print(f\"Entered Second Number is {b} it is Even\")\n",
    "else:\n",
    "    print(f\"Entered Second Number is {b} it is odd\")"
   ]
  },
  {
   "cell_type": "markdown",
   "id": "d02d35e6-2f14-438f-9c81-f9cfb90f67ca",
   "metadata": {},
   "source": [
    "```\n",
    "Input:\n",
    "    Enter a number: 4\n",
    "    Enter x value: 12\n",
    "    Enter y value: 2\n",
    "    Enter z value: 1\n",
    "Output:\n",
    "    Entered number 4 is Even\n",
    "    Entered numbers are: 12,2,1\n",
    "Input:\n",
    "    Enter a number: 1\n",
    "    Enter your name: Rajesh\n",
    "Output:\n",
    "    Entered number 1 is Odd\n",
    "    Entered name is: Rajesh\n",
    "```"
   ]
  },
  {
   "cell_type": "code",
   "execution_count": 10,
   "id": "e974c46e-d65b-48b0-864e-7aa81bc8e605",
   "metadata": {},
   "outputs": [
    {
     "name": "stdin",
     "output_type": "stream",
     "text": [
      "enter a number : 4\n",
      "enter x value :  12\n",
      "enter y value :  1\n",
      "enter z value :  11\n"
     ]
    },
    {
     "name": "stdout",
     "output_type": "stream",
     "text": [
      "entered number 4 is even\n",
      "entered numbers are : 12,1,11\n"
     ]
    }
   ],
   "source": [
    "a=int(input(\"enter a number :\"))\n",
    "if a%2==0:\n",
    "    x=int(input(\"enter x value : \"))\n",
    "    y=int(input(\"enter y value : \"))\n",
    "    z=int(input(\"enter z value : \"))\n",
    "    print(f\"entered number {a} is even\")\n",
    "    print(f\"entered numbers are : {x},{y},{z}\")\n",
    "else:\n",
    "    h=input(\"enter your name :\")\n",
    "    print(f\"entered numbers {a} is odd\")\n",
    "    print(f\"entered name is :{h}\")"
   ]
  },
  {
   "cell_type": "code",
   "execution_count": 18,
   "id": "165f8d01-38cd-4db0-b26f-fffd3c9dc81a",
   "metadata": {},
   "outputs": [
    {
     "name": "stdin",
     "output_type": "stream",
     "text": [
      "Enter a number:  21\n"
     ]
    },
    {
     "name": "stdout",
     "output_type": "stream",
     "text": [
      "Odd\n"
     ]
    }
   ],
   "source": [
    "n = int(input(\"Enter a number: \"))\n",
    "if ((n%2==0) and (n%3==0)):\n",
    "    print(\"Divisible by 2 and 3\")\n",
    "elif n%5==0:\n",
    "    print(\"Divisible by 5\") \n",
    "elif n%2==0:\n",
    "    print(\"Even\")\n",
    "else:\n",
    "    print(\"Odd\")"
   ]
  },
  {
   "cell_type": "markdown",
   "id": "bd5a0139-c735-4968-8786-12be5b33b920",
   "metadata": {},
   "source": [
    "```\n",
    "2\n",
    "2 x 01 = 02\n",
    "2 x 02 = 04\n",
    "2 x 03 = 06\n",
    "2 x 04 = 08\n",
    "|    |    |\n",
    "2 x 09 = 18\n",
    "2 x 10 = 20\n",
    "```"
   ]
  },
  {
   "cell_type": "code",
   "execution_count": 22,
   "id": "a0049f2b-2576-489c-9b4b-edba7bcf62a5",
   "metadata": {},
   "outputs": [
    {
     "name": "stdin",
     "output_type": "stream",
     "text": [
      " 2\n"
     ]
    },
    {
     "name": "stdout",
     "output_type": "stream",
     "text": [
      "2 x 01 = 02\n",
      "2 x 02 = 04\n",
      "2 x 03 = 06\n",
      "2 x 04 = 08\n",
      "2 x 05 = 10\n",
      "2 x 06 = 12\n",
      "2 x 07 = 14\n",
      "2 x 08 = 16\n",
      "2 x 09 = 18\n",
      "2 x 10 = 20\n"
     ]
    }
   ],
   "source": [
    "n = int(input())\n",
    "for j in range(1,11):\n",
    "    if j<10:\n",
    "        if (n*j)<10:\n",
    "            print(f\"{n} x 0{j} = 0{n*j}\")\n",
    "        else:\n",
    "            print(f\"{n} x 0{j} = {n*j}\")\n",
    "    else:\n",
    "        print(f\"{n} x {j} = {n*j}\")"
   ]
  },
  {
   "cell_type": "code",
   "execution_count": 25,
   "id": "5019f1ca-53b8-4b0c-bbda-d3a62406c4ae",
   "metadata": {},
   "outputs": [
    {
     "name": "stdin",
     "output_type": "stream",
     "text": [
      " 2\n"
     ]
    },
    {
     "name": "stdout",
     "output_type": "stream",
     "text": [
      "2 x 01 = 02\n",
      "2 x 02 = 04\n",
      "2 x 03 = 06\n",
      "2 x 04 = 08\n",
      "2 x 05 = 10\n",
      "2 x 06 = 12\n",
      "2 x 07 = 14\n",
      "2 x 08 = 16\n",
      "2 x 09 = 18\n",
      "2 x 10 = 20\n"
     ]
    }
   ],
   "source": [
    "n = int(input())\n",
    "for j in range(1,11):\n",
    "    if j<10 and (n*j)<10:\n",
    "        print(f\"{n} x 0{j} = 0{n*j}\")\n",
    "    elif j<10:\n",
    "        print(f\"{n} x 0{j} = {n*j}\")\n",
    "    else:\n",
    "        print(f\"{n} x {j} = {n*j}\")"
   ]
  },
  {
   "cell_type": "code",
   "execution_count": 33,
   "id": "546b2bbc-47ec-4d4b-94f0-d7e046e24c0b",
   "metadata": {},
   "outputs": [
    {
     "name": "stdin",
     "output_type": "stream",
     "text": [
      " 2\n"
     ]
    },
    {
     "name": "stdout",
     "output_type": "stream",
     "text": [
      "2 x 01 = 02\n",
      "2 x 02 = 04\n",
      "2 x 03 = 06\n",
      "2 x 04 = 08\n",
      "2 x 05 = 10\n",
      "2 x 06 = 12\n",
      "2 x 07 = 14\n",
      "2 x 08 = 16\n",
      "2 x 09 = 18\n",
      "2 x 10 = 20\n"
     ]
    }
   ],
   "source": [
    "n = int(input())\n",
    "for j in range(1,11):\n",
    "    print(f\"{n} x {j:02d} = {n*j:02d}\")"
   ]
  },
  {
   "cell_type": "code",
   "execution_count": 41,
   "id": "949efd8a-6d95-4113-82a7-8344bab7d3ba",
   "metadata": {},
   "outputs": [
    {
     "name": "stdin",
     "output_type": "stream",
     "text": [
      "Enter a start range:  2\n",
      "Enter an end range:  8\n"
     ]
    },
    {
     "name": "stdout",
     "output_type": "stream",
     "text": [
      "2 3 4 5 6 7 "
     ]
    }
   ],
   "source": [
    "n = int(input(\"Enter a start range: \"))\n",
    "m = int(input(\"Enter an end range: \"))\n",
    "for i in range(n,m):\n",
    "    print(i,end=\" \")"
   ]
  },
  {
   "cell_type": "code",
   "execution_count": 36,
   "id": "969ebbae-13e6-4dac-a8b9-ea36f6d5b6ca",
   "metadata": {},
   "outputs": [
    {
     "name": "stdin",
     "output_type": "stream",
     "text": [
      " 23\n"
     ]
    },
    {
     "name": "stdout",
     "output_type": "stream",
     "text": [
      "23 <class 'str'>\n"
     ]
    },
    {
     "data": {
      "text/plain": [
       "str"
      ]
     },
     "execution_count": 36,
     "metadata": {},
     "output_type": "execute_result"
    }
   ],
   "source": [
    "k = input()\n",
    "print(k,type(k))\n",
    "type(k)"
   ]
  },
  {
   "cell_type": "markdown",
   "id": "acb6f8e4-5c72-40a1-9643-e2df4bdc5a2d",
   "metadata": {},
   "source": [
    "```\n",
    "Input:\n",
    "    5\n",
    "    20\n",
    "Output:\n",
    "    23F41A0505\n",
    "    23F41A0506\n",
    "    23F41A0507\n",
    "    |        |\n",
    "    23F41A0520\n",
    "```"
   ]
  },
  {
   "cell_type": "code",
   "execution_count": 46,
   "id": "d888c0e4-ee1a-400e-80e3-32a8df61814c",
   "metadata": {},
   "outputs": [
    {
     "name": "stdin",
     "output_type": "stream",
     "text": [
      " 5\n",
      " 15\n"
     ]
    },
    {
     "name": "stdout",
     "output_type": "stream",
     "text": [
      "23F41A0505 22F41A0505\n",
      "23F41A0506 22F41A0506\n",
      "23F41A0507 22F41A0507\n",
      "23F41A0508 22F41A0508\n",
      "23F41A0509 22F41A0509\n",
      "23F41A0510 22F41A0510\n",
      "23F41A0511 22F41A0511\n",
      "23F41A0512 22F41A0512\n",
      "23F41A0513 22F41A0513\n",
      "23F41A0514 22F41A0514\n",
      "23F41A0515 22F41A0515\n"
     ]
    }
   ],
   "source": [
    "n = int(input())\n",
    "m = int(input())\n",
    "for i in range(n,m+1):\n",
    "    print(f\"23F41A05{i:02d} 22F41A05{i:02d}\")"
   ]
  },
  {
   "cell_type": "code",
   "execution_count": 47,
   "id": "925d4a2e-16c2-4134-b25b-42b63922ab24",
   "metadata": {},
   "outputs": [
    {
     "name": "stdin",
     "output_type": "stream",
     "text": [
      " 5\n"
     ]
    },
    {
     "name": "stdout",
     "output_type": "stream",
     "text": [
      "0 1 2 3 4 "
     ]
    }
   ],
   "source": [
    "p = int(input())\n",
    "for i in range(p):\n",
    "    print(i,end=\" \")"
   ]
  },
  {
   "cell_type": "code",
   "execution_count": 49,
   "id": "53ab2fd4-6de0-45e8-a0f8-e14acf3b3736",
   "metadata": {},
   "outputs": [
    {
     "name": "stdin",
     "output_type": "stream",
     "text": [
      " 5\n"
     ]
    },
    {
     "name": "stdout",
     "output_type": "stream",
     "text": [
      "4 3 2 1 0 "
     ]
    }
   ],
   "source": [
    "p = int(input())\n",
    "for i in range(p):\n",
    "    print(p-i-1,end=\" \")"
   ]
  },
  {
   "cell_type": "code",
   "execution_count": 53,
   "id": "5c3ff544-92bb-4c18-a5c1-bcfbf0f415a5",
   "metadata": {},
   "outputs": [
    {
     "name": "stdin",
     "output_type": "stream",
     "text": [
      " 5\n",
      " 10\n"
     ]
    },
    {
     "name": "stdout",
     "output_type": "stream",
     "text": [
      "23F41A0510 22F41A0505\n",
      "23F41A0509 22F41A0506\n",
      "23F41A0508 22F41A0507\n",
      "23F41A0507 22F41A0508\n",
      "23F41A0506 22F41A0509\n",
      "23F41A0505 22F41A0510\n"
     ]
    }
   ],
   "source": [
    "n = int(input())\n",
    "m = int(input())\n",
    "for i in range(n,m+1):\n",
    "    print(f\"23F41A05{n+m-i:02d} 22F41A05{i:02d}\")"
   ]
  },
  {
   "cell_type": "code",
   "execution_count": 56,
   "id": "351d2506-7d90-4bd7-9e78-cda299b2ea72",
   "metadata": {},
   "outputs": [
    {
     "name": "stdin",
     "output_type": "stream",
     "text": [
      " 10\n"
     ]
    },
    {
     "name": "stdout",
     "output_type": "stream",
     "text": [
      "0 1 2 3 4 5 6 7 8 9 "
     ]
    }
   ],
   "source": [
    "p = 0\n",
    "n = int(input())\n",
    "while p!=n:\n",
    "    print(p,end=\" \")\n",
    "    p+=1"
   ]
  },
  {
   "cell_type": "code",
   "execution_count": 59,
   "id": "69f73fad-457d-4a6c-a7fd-9f03675db429",
   "metadata": {},
   "outputs": [
    {
     "name": "stdin",
     "output_type": "stream",
     "text": [
      " 5\n"
     ]
    },
    {
     "name": "stdout",
     "output_type": "stream",
     "text": [
      "4 3 2 1 0 "
     ]
    }
   ],
   "source": [
    "p = 0\n",
    "n = int(input())\n",
    "while p!=n:\n",
    "    n-=1\n",
    "    print(n,end=\" \")"
   ]
  },
  {
   "cell_type": "markdown",
   "id": "f8bcfb69-dafd-44e2-b3c1-3a0810a8d920",
   "metadata": {},
   "source": [
    "```\n",
    "k = int(input())\n",
    "while k>=10:\n",
    "    print(k,end=\" \")\n",
    "    k += 1\n",
    "```"
   ]
  },
  {
   "cell_type": "code",
   "execution_count": 2,
   "id": "2b46287e-28c1-49a3-9ab2-ba0651a6c406",
   "metadata": {},
   "outputs": [
    {
     "name": "stdout",
     "output_type": "stream",
     "text": [
      "1.Addition of 2 numbers\n",
      "2.Expression\n",
      "3.Check Even\n",
      "4.Exit\n",
      "\n"
     ]
    },
    {
     "name": "stdin",
     "output_type": "stream",
     "text": [
      "Enter Your choice:   2\n",
      "Enter x value:  5\n"
     ]
    },
    {
     "name": "stdout",
     "output_type": "stream",
     "text": [
      "cube of 5 is: 125\n",
      "1.Addition of 2 numbers\n",
      "2.Expression\n",
      "3.Check Even\n",
      "4.Exit\n",
      "\n"
     ]
    },
    {
     "name": "stdin",
     "output_type": "stream",
     "text": [
      "Enter Your choice:   3\n",
      "Enter a value:  4\n"
     ]
    },
    {
     "name": "stdout",
     "output_type": "stream",
     "text": [
      "4 is Even\n",
      "1.Addition of 2 numbers\n",
      "2.Expression\n",
      "3.Check Even\n",
      "4.Exit\n",
      "\n"
     ]
    },
    {
     "name": "stdin",
     "output_type": "stream",
     "text": [
      "Enter Your choice:   1\n",
      "Enter First value:  4\n",
      "Enter Second value:  6\n"
     ]
    },
    {
     "name": "stdout",
     "output_type": "stream",
     "text": [
      "Addition of 4 and 6 is: 10\n",
      "1.Addition of 2 numbers\n",
      "2.Expression\n",
      "3.Check Even\n",
      "4.Exit\n",
      "\n"
     ]
    },
    {
     "name": "stdin",
     "output_type": "stream",
     "text": [
      "Enter Your choice:   5\n"
     ]
    },
    {
     "name": "stdout",
     "output_type": "stream",
     "text": [
      "Enter valid option. Try again\n",
      "1.Addition of 2 numbers\n",
      "2.Expression\n",
      "3.Check Even\n",
      "4.Exit\n",
      "\n"
     ]
    },
    {
     "name": "stdin",
     "output_type": "stream",
     "text": [
      "Enter Your choice:   4\n"
     ]
    },
    {
     "name": "stdout",
     "output_type": "stream",
     "text": [
      "Thanks for choosing these option\n"
     ]
    }
   ],
   "source": [
    "while True:\n",
    "    print(\"1.Addition of 2 numbers\\n2.Expression\\n3.Check Even\\n4.Exit\\n\")\n",
    "    k = int(input(\"Enter Your choice:  \"))\n",
    "    if k == 1:\n",
    "        n = int(input(\"Enter First value: \"))\n",
    "        m = int(input(\"Enter Second value: \"))\n",
    "        print(f\"Addition of {n} and {m} is: {n+m}\")\n",
    "    elif k == 2:\n",
    "        x = int(input(\"Enter x value: \"))\n",
    "        print(f\"cube of {x} is: {x**3}\")\n",
    "    elif k == 4:\n",
    "        print(\"Thanks for choosing these option\")\n",
    "        break\n",
    "    elif k == 3:\n",
    "        s = int(input(\"Enter a value: \"))\n",
    "        if s%2==0:\n",
    "            print(f\"{s} is Even\")\n",
    "        else:\n",
    "            print(f\"{s} is Odd\")\n",
    "    else:\n",
    "        print(\"Enter valid option. Try again\")"
   ]
  },
  {
   "cell_type": "code",
   "execution_count": 5,
   "id": "a05733dc-192e-434c-860f-14517af6d9ef",
   "metadata": {},
   "outputs": [
    {
     "name": "stdin",
     "output_type": "stream",
     "text": [
      "Enter a size:  5\n"
     ]
    },
    {
     "name": "stdout",
     "output_type": "stream",
     "text": [
      "0 1 2 3 4 \n",
      "0 1 2 3 4 \n",
      "0 1 2 3 4 \n",
      "0 1 2 3 4 \n",
      "0 1 2 3 4 \n"
     ]
    }
   ],
   "source": [
    "n = int(input(\"Enter a size: \"))\n",
    "for i in range(n):\n",
    "    for j in range(n):\n",
    "        print(j,end=\" \")\n",
    "    print()"
   ]
  },
  {
   "cell_type": "code",
   "execution_count": 9,
   "id": "3d2b4deb-49ba-4efe-9128-f59789271c0e",
   "metadata": {},
   "outputs": [
    {
     "name": "stdout",
     "output_type": "stream",
     "text": [
      "01 02 03 04 05 06 07 \n",
      "08 09 10 11 12 13 14 \n",
      "15 16 17 18 19 20 21 \n",
      "22 23 24 25 26 27 28 \n",
      "29 30 31 \n"
     ]
    }
   ],
   "source": [
    "z = 1\n",
    "for i in range(5):\n",
    "    for j in range(7):\n",
    "        if z>=32:\n",
    "            break\n",
    "        else:\n",
    "            print(f\"{z:02d}\",end=\" \")\n",
    "        z+=1\n",
    "    print()"
   ]
  },
  {
   "cell_type": "code",
   "execution_count": 10,
   "id": "9b0ae9d2-aca4-4068-b302-ae59f5ac0145",
   "metadata": {},
   "outputs": [
    {
     "name": "stdout",
     "output_type": "stream",
     "text": [
      "{} <class 'dict'>\n",
      "{45} <class 'set'>\n"
     ]
    }
   ],
   "source": [
    "k = {}\n",
    "d = {45}\n",
    "print(k,type(k))\n",
    "print(d,type(d))"
   ]
  },
  {
   "cell_type": "code",
   "execution_count": 11,
   "id": "182fcdbe-05e1-493b-a6fa-7c289fd6e8bd",
   "metadata": {},
   "outputs": [
    {
     "name": "stdout",
     "output_type": "stream",
     "text": [
      "[] <class 'list'>\n"
     ]
    }
   ],
   "source": [
    "m = list()\n",
    "print(m,type(m))"
   ]
  },
  {
   "cell_type": "code",
   "execution_count": 12,
   "id": "7b908cc4-e875-4e88-a1e9-334ec7db892e",
   "metadata": {},
   "outputs": [
    {
     "name": "stdout",
     "output_type": "stream",
     "text": [
      "() <class 'tuple'>\n"
     ]
    }
   ],
   "source": [
    "f = tuple()\n",
    "print(f,type(f))"
   ]
  },
  {
   "cell_type": "code",
   "execution_count": null,
   "id": "292347fe-5da8-4a9c-bcb0-af39a1836240",
   "metadata": {},
   "outputs": [],
   "source": [
    "{(\"name\":[\"Rajesh\",\"Suresh\"]),\"age\":45}"
   ]
  },
  {
   "cell_type": "code",
   "execution_count": 13,
   "id": "08e97a40-f7d1-4b56-b295-90677d685c0f",
   "metadata": {},
   "outputs": [
    {
     "name": "stdout",
     "output_type": "stream",
     "text": [
      "[45, 89.154, True, (2+5j), 45, 'Tarun']\n",
      "[45, 89.154, True, (2+5j), 45, 'Tarun']\n",
      "[45, 89.154, True, (2+5j), 45, 'Tarun']\n"
     ]
    }
   ],
   "source": [
    "y = [45,89.154,True,2+5j,45,\"Tarun\"]\n",
    "print(y)\n",
    "print(y[:])\n",
    "print(y[::])"
   ]
  },
  {
   "cell_type": "code",
   "execution_count": 14,
   "id": "2aa7316e-2588-47c7-9451-ea6bd07baced",
   "metadata": {},
   "outputs": [
    {
     "name": "stdout",
     "output_type": "stream",
     "text": [
      "45 89.154 True (2+5j) 45 Tarun "
     ]
    }
   ],
   "source": [
    "for i in y:\n",
    "    print(i,end=\" \")"
   ]
  },
  {
   "cell_type": "code",
   "execution_count": 15,
   "id": "a2a094d3-7d73-4577-af8a-0663f56b725f",
   "metadata": {},
   "outputs": [
    {
     "name": "stdout",
     "output_type": "stream",
     "text": [
      "45 89.154 True (2+5j) 45 Tarun "
     ]
    }
   ],
   "source": [
    "for i in range(len(y)):\n",
    "    print(y[i],end=\" \")"
   ]
  },
  {
   "cell_type": "code",
   "execution_count": null,
   "id": "a054d4d0-7824-4133-a7a3-3c706098119b",
   "metadata": {},
   "outputs": [],
   "source": []
  }
 ],
 "metadata": {
  "kernelspec": {
   "display_name": "Python 3 (ipykernel)",
   "language": "python",
   "name": "python3"
  },
  "language_info": {
   "codemirror_mode": {
    "name": "ipython",
    "version": 3
   },
   "file_extension": ".py",
   "mimetype": "text/x-python",
   "name": "python",
   "nbconvert_exporter": "python",
   "pygments_lexer": "ipython3",
   "version": "3.9.6"
  }
 },
 "nbformat": 4,
 "nbformat_minor": 5
}
