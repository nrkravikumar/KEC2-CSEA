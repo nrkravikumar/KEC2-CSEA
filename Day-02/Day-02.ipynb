{
 "cells": [
  {
   "cell_type": "markdown",
   "id": "efaf93a7-2695-422b-b80d-43b88a3f89d8",
   "metadata": {},
   "source": [
    "# Python Concepts"
   ]
  },
  {
   "cell_type": "code",
   "execution_count": 1,
   "id": "46dc509c-0819-411a-974c-4d026ad54b8b",
   "metadata": {},
   "outputs": [
    {
     "name": "stdout",
     "output_type": "stream",
     "text": [
      "45\n"
     ]
    }
   ],
   "source": [
    "a = 45\n",
    "print(a)"
   ]
  },
  {
   "cell_type": "code",
   "execution_count": 2,
   "id": "b24e5d06-e298-4eb1-b2e7-68df1777c8bd",
   "metadata": {},
   "outputs": [
    {
     "name": "stdout",
     "output_type": "stream",
     "text": [
      "45\n"
     ]
    }
   ],
   "source": [
    "print(a)"
   ]
  },
  {
   "cell_type": "code",
   "execution_count": 1,
   "id": "bcf6db4c-5d3a-41c0-91bc-ff4b6b547342",
   "metadata": {},
   "outputs": [
    {
     "name": "stdin",
     "output_type": "stream",
     "text": [
      "Enter a value:  10\n",
      "Enter b value:  20\n"
     ]
    },
    {
     "name": "stdout",
     "output_type": "stream",
     "text": [
      "10 20\n"
     ]
    }
   ],
   "source": [
    "a,b = int(input(\"Enter a value: \")),int(input(\"Enter b value: \"))\n",
    "print(a,b)"
   ]
  },
  {
   "cell_type": "code",
   "execution_count": null,
   "id": "eb00113b-3b2c-4547-8bf1-7921e8e92d98",
   "metadata": {},
   "outputs": [],
   "source": [
    "d = 45\n",
    "print(d)"
   ]
  },
  {
   "cell_type": "markdown",
   "id": "e00a1d20-8c3a-463f-bd47-200006cff57d",
   "metadata": {},
   "source": [
    "```\n",
    "Input:\n",
    "    Enter your age: 20\n",
    "Output:\n",
    "    Entered age is 20 and exceeding for 2 years\n",
    "\n",
    "Input:\n",
    "    Enter your age: 16\n",
    "Output:\n",
    "    Entered age is 16 and need to wait for 2 years for vote\n",
    "```"
   ]
  },
  {
   "cell_type": "code",
   "execution_count": null,
   "id": "c8046777-6780-4031-98c4-6dd27087b65f",
   "metadata": {},
   "outputs": [],
   "source": []
  }
 ],
 "metadata": {
  "kernelspec": {
   "display_name": "Python 3 (ipykernel)",
   "language": "python",
   "name": "python3"
  },
  "language_info": {
   "codemirror_mode": {
    "name": "ipython",
    "version": 3
   },
   "file_extension": ".py",
   "mimetype": "text/x-python",
   "name": "python",
   "nbconvert_exporter": "python",
   "pygments_lexer": "ipython3",
   "version": "3.9.6"
  }
 },
 "nbformat": 4,
 "nbformat_minor": 5
}
